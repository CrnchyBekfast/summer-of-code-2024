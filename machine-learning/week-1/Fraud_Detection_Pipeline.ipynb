{
  "nbformat": 4,
  "nbformat_minor": 0,
  "metadata": {
    "colab": {
      "provenance": [],
      "gpuType": "L4",
      "machine_shape": "hm"
    },
    "kernelspec": {
      "name": "python3",
      "display_name": "Python 3"
    },
    "language_info": {
      "name": "python"
    },
    "accelerator": "GPU"
  },
  "cells": [
    {
      "cell_type": "markdown",
      "source": [
        "# Fraud Detection ML Model Pipeline\n",
        "\n",
        "This project aims to comprehensively cover the training of multiple models to achieve a good success rate in detecting fraudulent transactions on a PoS application, and testing said models to ultimately use the best one. This Colab notebook serves as the code part of the project.\n",
        "\n",
        "Inspiration for the workflow is almost entirely taken from Google MLCC and inspired by searches and prompts to adapt to the problem at hand"
      ],
      "metadata": {
        "id": "XHt0kRwdUi9-"
      }
    },
    {
      "cell_type": "markdown",
      "source": [
        "# Dependencies\n",
        "\n",
        "The succeeding block handles importing all dependencies for the project, and some basic configurations for said dependencies"
      ],
      "metadata": {
        "id": "Cty3bOslVSVq"
      }
    },
    {
      "cell_type": "code",
      "source": [
        "import pandas as pd\n",
        "from google.colab import drive\n",
        "from google.colab import files\n",
        "import matplotlib.pyplot as plt\n",
        "import numpy as np\n",
        "from sklearn.preprocessing import OneHotEncoder\n",
        "from sklearn.preprocessing import StandardScaler\n",
        "from imblearn.over_sampling import RandomOverSampler\n",
        "from imblearn.under_sampling import RandomUnderSampler\n",
        "\n",
        "\n",
        "drive.mount(\"/content/drive\")\n",
        "\n",
        "# The following lines improve the readability of the pandas outputs, idea from Google MLCC.\n",
        "pd.options.display.max_rows = 10\n",
        "pd.options.display.float_format = \"{:.1f}\".format"
      ],
      "metadata": {
        "colab": {
          "base_uri": "https://localhost:8080/"
        },
        "id": "OTsoGPEnVh8o",
        "outputId": "aa0cc56c-cb86-45bb-8df4-d09efc785939"
      },
      "execution_count": null,
      "outputs": [
        {
          "output_type": "stream",
          "name": "stdout",
          "text": [
            "Mounted at /content/drive\n"
          ]
        }
      ]
    },
    {
      "cell_type": "markdown",
      "source": [
        "#Importing a dataset"
      ],
      "metadata": {
        "id": "6YhkHA3nVqO-"
      }
    },
    {
      "cell_type": "markdown",
      "source": [
        "The succeeding code handles importing a dataset relevant to the fraudulent transaction detection ML model.\n",
        "\n",
        "The dataset is from a competition from Kaggle,\n",
        " [IEEE-CIS Fraud Detection](https://www.kaggle.com/c/ieee-fraud-detection/data)"
      ],
      "metadata": {
        "id": "jHloX534VwX5"
      }
    },
    {
      "cell_type": "code",
      "source": [
        "finData_raw = pd.read_csv('/content/drive/MyDrive/ieee-fraud-detection/train_transaction.csv')\n",
        "identityData_raw = pd.read_csv('/content/drive/MyDrive/ieee-fraud-detection/train_identity.csv')\n",
        "print(finData_raw.head())\n",
        "print(identityData_raw.head())"
      ],
      "metadata": {
        "colab": {
          "base_uri": "https://localhost:8080/"
        },
        "id": "N6YJ6TeSV9LY",
        "outputId": "9906749b-0601-4532-f439-40aaab0c65c0"
      },
      "execution_count": null,
      "outputs": [
        {
          "output_type": "stream",
          "name": "stdout",
          "text": [
            "   TransactionID  isFraud  TransactionDT  TransactionAmt ProductCD  card1  \\\n",
            "0        2987000        0          86400            68.5         W  13926   \n",
            "1        2987001        0          86401            29.0         W   2755   \n",
            "2        2987002        0          86469            59.0         W   4663   \n",
            "3        2987003        0          86499            50.0         W  18132   \n",
            "4        2987004        0          86506            50.0         H   4497   \n",
            "\n",
            "   card2  card3       card4  card5  ... V330  V331  V332  V333  V334 V335  \\\n",
            "0    NaN  150.0    discover  142.0  ...  NaN   NaN   NaN   NaN   NaN  NaN   \n",
            "1  404.0  150.0  mastercard  102.0  ...  NaN   NaN   NaN   NaN   NaN  NaN   \n",
            "2  490.0  150.0        visa  166.0  ...  NaN   NaN   NaN   NaN   NaN  NaN   \n",
            "3  567.0  150.0  mastercard  117.0  ...  NaN   NaN   NaN   NaN   NaN  NaN   \n",
            "4  514.0  150.0  mastercard  102.0  ...  0.0   0.0   0.0   0.0   0.0  0.0   \n",
            "\n",
            "  V336  V337  V338  V339  \n",
            "0  NaN   NaN   NaN   NaN  \n",
            "1  NaN   NaN   NaN   NaN  \n",
            "2  NaN   NaN   NaN   NaN  \n",
            "3  NaN   NaN   NaN   NaN  \n",
            "4  0.0   0.0   0.0   0.0  \n",
            "\n",
            "[5 rows x 394 columns]\n",
            "   TransactionID  id_01    id_02  id_03  id_04  id_05  id_06  id_07  id_08  \\\n",
            "0        2987004    0.0  70787.0    NaN    NaN    NaN    NaN    NaN    NaN   \n",
            "1        2987008   -5.0  98945.0    NaN    NaN    0.0   -5.0    NaN    NaN   \n",
            "2        2987010   -5.0 191631.0    0.0    0.0    0.0    0.0    NaN    NaN   \n",
            "3        2987011   -5.0 221832.0    NaN    NaN    0.0   -6.0    NaN    NaN   \n",
            "4        2987016    0.0   7460.0    0.0    0.0    1.0    0.0    NaN    NaN   \n",
            "\n",
            "   id_09  ...                id_31  id_32      id_33           id_34  id_35  \\\n",
            "0    NaN  ...  samsung browser 6.2   32.0  2220x1080  match_status:2      T   \n",
            "1    NaN  ...   mobile safari 11.0   32.0   1334x750  match_status:1      T   \n",
            "2    0.0  ...          chrome 62.0    NaN        NaN             NaN      F   \n",
            "3    NaN  ...          chrome 62.0    NaN        NaN             NaN      F   \n",
            "4    0.0  ...          chrome 62.0   24.0   1280x800  match_status:2      T   \n",
            "\n",
            "  id_36 id_37  id_38  DeviceType                     DeviceInfo  \n",
            "0     F     T      T      mobile  SAMSUNG SM-G892A Build/NRD90M  \n",
            "1     F     F      T      mobile                     iOS Device  \n",
            "2     F     T      T     desktop                        Windows  \n",
            "3     F     T      T     desktop                            NaN  \n",
            "4     F     T      T     desktop                          MacOS  \n",
            "\n",
            "[5 rows x 41 columns]\n"
          ]
        }
      ]
    },
    {
      "cell_type": "markdown",
      "source": [
        "Clearly, the dataset contains a lot of data, but most of it is not useful from our perspective as we would not be able to collect that data and run the model in deployment on all those data points if we don't even know what the datapoints are, as the features are anonymized."
      ],
      "metadata": {
        "id": "WE3o2THZ2bgq"
      }
    },
    {
      "cell_type": "markdown",
      "source": [
        "The below code aims to refine the dataset into a usable dataframe, by picking out the features that are not anonymized and may actually be useful in pattern detection."
      ],
      "metadata": {
        "id": "kfePsmg42tCg"
      }
    },
    {
      "cell_type": "code",
      "source": [
        "finData = finData_raw[['TransactionID', 'isFraud', 'TransactionDT', 'TransactionAmt', 'card4', 'card6','P_emaildomain', 'R_emaildomain']]\n",
        "identityData = identityData_raw[['TransactionID', 'id_30', 'id_31','DeviceType', 'DeviceInfo']]\n",
        "\n",
        "\n",
        "finData.describe()\n"
      ],
      "metadata": {
        "colab": {
          "base_uri": "https://localhost:8080/",
          "height": 300
        },
        "id": "zt5d67Fgd8WB",
        "outputId": "13dd0ec0-4b78-4078-8e19-c382b1c11d78"
      },
      "execution_count": null,
      "outputs": [
        {
          "output_type": "execute_result",
          "data": {
            "text/plain": [
              "       TransactionID  isFraud  TransactionDT  TransactionAmt\n",
              "count       590540.0 590540.0       590540.0        590540.0\n",
              "mean       3282269.5      0.0      7372311.3           135.0\n",
              "std         170474.4      0.2      4617223.6           239.2\n",
              "min        2987000.0      0.0        86400.0             0.3\n",
              "25%        3134634.8      0.0      3027057.8            43.3\n",
              "50%        3282269.5      0.0      7306527.5            68.8\n",
              "75%        3429904.2      0.0     11246620.0           125.0\n",
              "max        3577539.0      1.0     15811131.0         31937.4"
            ],
            "text/html": [
              "\n",
              "  <div id=\"df-ee49e993-0d74-4f13-9c25-e9a11335bc6b\" class=\"colab-df-container\">\n",
              "    <div>\n",
              "<style scoped>\n",
              "    .dataframe tbody tr th:only-of-type {\n",
              "        vertical-align: middle;\n",
              "    }\n",
              "\n",
              "    .dataframe tbody tr th {\n",
              "        vertical-align: top;\n",
              "    }\n",
              "\n",
              "    .dataframe thead th {\n",
              "        text-align: right;\n",
              "    }\n",
              "</style>\n",
              "<table border=\"1\" class=\"dataframe\">\n",
              "  <thead>\n",
              "    <tr style=\"text-align: right;\">\n",
              "      <th></th>\n",
              "      <th>TransactionID</th>\n",
              "      <th>isFraud</th>\n",
              "      <th>TransactionDT</th>\n",
              "      <th>TransactionAmt</th>\n",
              "    </tr>\n",
              "  </thead>\n",
              "  <tbody>\n",
              "    <tr>\n",
              "      <th>count</th>\n",
              "      <td>590540.0</td>\n",
              "      <td>590540.0</td>\n",
              "      <td>590540.0</td>\n",
              "      <td>590540.0</td>\n",
              "    </tr>\n",
              "    <tr>\n",
              "      <th>mean</th>\n",
              "      <td>3282269.5</td>\n",
              "      <td>0.0</td>\n",
              "      <td>7372311.3</td>\n",
              "      <td>135.0</td>\n",
              "    </tr>\n",
              "    <tr>\n",
              "      <th>std</th>\n",
              "      <td>170474.4</td>\n",
              "      <td>0.2</td>\n",
              "      <td>4617223.6</td>\n",
              "      <td>239.2</td>\n",
              "    </tr>\n",
              "    <tr>\n",
              "      <th>min</th>\n",
              "      <td>2987000.0</td>\n",
              "      <td>0.0</td>\n",
              "      <td>86400.0</td>\n",
              "      <td>0.3</td>\n",
              "    </tr>\n",
              "    <tr>\n",
              "      <th>25%</th>\n",
              "      <td>3134634.8</td>\n",
              "      <td>0.0</td>\n",
              "      <td>3027057.8</td>\n",
              "      <td>43.3</td>\n",
              "    </tr>\n",
              "    <tr>\n",
              "      <th>50%</th>\n",
              "      <td>3282269.5</td>\n",
              "      <td>0.0</td>\n",
              "      <td>7306527.5</td>\n",
              "      <td>68.8</td>\n",
              "    </tr>\n",
              "    <tr>\n",
              "      <th>75%</th>\n",
              "      <td>3429904.2</td>\n",
              "      <td>0.0</td>\n",
              "      <td>11246620.0</td>\n",
              "      <td>125.0</td>\n",
              "    </tr>\n",
              "    <tr>\n",
              "      <th>max</th>\n",
              "      <td>3577539.0</td>\n",
              "      <td>1.0</td>\n",
              "      <td>15811131.0</td>\n",
              "      <td>31937.4</td>\n",
              "    </tr>\n",
              "  </tbody>\n",
              "</table>\n",
              "</div>\n",
              "    <div class=\"colab-df-buttons\">\n",
              "\n",
              "  <div class=\"colab-df-container\">\n",
              "    <button class=\"colab-df-convert\" onclick=\"convertToInteractive('df-ee49e993-0d74-4f13-9c25-e9a11335bc6b')\"\n",
              "            title=\"Convert this dataframe to an interactive table.\"\n",
              "            style=\"display:none;\">\n",
              "\n",
              "  <svg xmlns=\"http://www.w3.org/2000/svg\" height=\"24px\" viewBox=\"0 -960 960 960\">\n",
              "    <path d=\"M120-120v-720h720v720H120Zm60-500h600v-160H180v160Zm220 220h160v-160H400v160Zm0 220h160v-160H400v160ZM180-400h160v-160H180v160Zm440 0h160v-160H620v160ZM180-180h160v-160H180v160Zm440 0h160v-160H620v160Z\"/>\n",
              "  </svg>\n",
              "    </button>\n",
              "\n",
              "  <style>\n",
              "    .colab-df-container {\n",
              "      display:flex;\n",
              "      gap: 12px;\n",
              "    }\n",
              "\n",
              "    .colab-df-convert {\n",
              "      background-color: #E8F0FE;\n",
              "      border: none;\n",
              "      border-radius: 50%;\n",
              "      cursor: pointer;\n",
              "      display: none;\n",
              "      fill: #1967D2;\n",
              "      height: 32px;\n",
              "      padding: 0 0 0 0;\n",
              "      width: 32px;\n",
              "    }\n",
              "\n",
              "    .colab-df-convert:hover {\n",
              "      background-color: #E2EBFA;\n",
              "      box-shadow: 0px 1px 2px rgba(60, 64, 67, 0.3), 0px 1px 3px 1px rgba(60, 64, 67, 0.15);\n",
              "      fill: #174EA6;\n",
              "    }\n",
              "\n",
              "    .colab-df-buttons div {\n",
              "      margin-bottom: 4px;\n",
              "    }\n",
              "\n",
              "    [theme=dark] .colab-df-convert {\n",
              "      background-color: #3B4455;\n",
              "      fill: #D2E3FC;\n",
              "    }\n",
              "\n",
              "    [theme=dark] .colab-df-convert:hover {\n",
              "      background-color: #434B5C;\n",
              "      box-shadow: 0px 1px 3px 1px rgba(0, 0, 0, 0.15);\n",
              "      filter: drop-shadow(0px 1px 2px rgba(0, 0, 0, 0.3));\n",
              "      fill: #FFFFFF;\n",
              "    }\n",
              "  </style>\n",
              "\n",
              "    <script>\n",
              "      const buttonEl =\n",
              "        document.querySelector('#df-ee49e993-0d74-4f13-9c25-e9a11335bc6b button.colab-df-convert');\n",
              "      buttonEl.style.display =\n",
              "        google.colab.kernel.accessAllowed ? 'block' : 'none';\n",
              "\n",
              "      async function convertToInteractive(key) {\n",
              "        const element = document.querySelector('#df-ee49e993-0d74-4f13-9c25-e9a11335bc6b');\n",
              "        const dataTable =\n",
              "          await google.colab.kernel.invokeFunction('convertToInteractive',\n",
              "                                                    [key], {});\n",
              "        if (!dataTable) return;\n",
              "\n",
              "        const docLinkHtml = 'Like what you see? Visit the ' +\n",
              "          '<a target=\"_blank\" href=https://colab.research.google.com/notebooks/data_table.ipynb>data table notebook</a>'\n",
              "          + ' to learn more about interactive tables.';\n",
              "        element.innerHTML = '';\n",
              "        dataTable['output_type'] = 'display_data';\n",
              "        await google.colab.output.renderOutput(dataTable, element);\n",
              "        const docLink = document.createElement('div');\n",
              "        docLink.innerHTML = docLinkHtml;\n",
              "        element.appendChild(docLink);\n",
              "      }\n",
              "    </script>\n",
              "  </div>\n",
              "\n",
              "\n",
              "<div id=\"df-b7ccf15b-3770-4260-a222-afd97dd120b0\">\n",
              "  <button class=\"colab-df-quickchart\" onclick=\"quickchart('df-b7ccf15b-3770-4260-a222-afd97dd120b0')\"\n",
              "            title=\"Suggest charts\"\n",
              "            style=\"display:none;\">\n",
              "\n",
              "<svg xmlns=\"http://www.w3.org/2000/svg\" height=\"24px\"viewBox=\"0 0 24 24\"\n",
              "     width=\"24px\">\n",
              "    <g>\n",
              "        <path d=\"M19 3H5c-1.1 0-2 .9-2 2v14c0 1.1.9 2 2 2h14c1.1 0 2-.9 2-2V5c0-1.1-.9-2-2-2zM9 17H7v-7h2v7zm4 0h-2V7h2v10zm4 0h-2v-4h2v4z\"/>\n",
              "    </g>\n",
              "</svg>\n",
              "  </button>\n",
              "\n",
              "<style>\n",
              "  .colab-df-quickchart {\n",
              "      --bg-color: #E8F0FE;\n",
              "      --fill-color: #1967D2;\n",
              "      --hover-bg-color: #E2EBFA;\n",
              "      --hover-fill-color: #174EA6;\n",
              "      --disabled-fill-color: #AAA;\n",
              "      --disabled-bg-color: #DDD;\n",
              "  }\n",
              "\n",
              "  [theme=dark] .colab-df-quickchart {\n",
              "      --bg-color: #3B4455;\n",
              "      --fill-color: #D2E3FC;\n",
              "      --hover-bg-color: #434B5C;\n",
              "      --hover-fill-color: #FFFFFF;\n",
              "      --disabled-bg-color: #3B4455;\n",
              "      --disabled-fill-color: #666;\n",
              "  }\n",
              "\n",
              "  .colab-df-quickchart {\n",
              "    background-color: var(--bg-color);\n",
              "    border: none;\n",
              "    border-radius: 50%;\n",
              "    cursor: pointer;\n",
              "    display: none;\n",
              "    fill: var(--fill-color);\n",
              "    height: 32px;\n",
              "    padding: 0;\n",
              "    width: 32px;\n",
              "  }\n",
              "\n",
              "  .colab-df-quickchart:hover {\n",
              "    background-color: var(--hover-bg-color);\n",
              "    box-shadow: 0 1px 2px rgba(60, 64, 67, 0.3), 0 1px 3px 1px rgba(60, 64, 67, 0.15);\n",
              "    fill: var(--button-hover-fill-color);\n",
              "  }\n",
              "\n",
              "  .colab-df-quickchart-complete:disabled,\n",
              "  .colab-df-quickchart-complete:disabled:hover {\n",
              "    background-color: var(--disabled-bg-color);\n",
              "    fill: var(--disabled-fill-color);\n",
              "    box-shadow: none;\n",
              "  }\n",
              "\n",
              "  .colab-df-spinner {\n",
              "    border: 2px solid var(--fill-color);\n",
              "    border-color: transparent;\n",
              "    border-bottom-color: var(--fill-color);\n",
              "    animation:\n",
              "      spin 1s steps(1) infinite;\n",
              "  }\n",
              "\n",
              "  @keyframes spin {\n",
              "    0% {\n",
              "      border-color: transparent;\n",
              "      border-bottom-color: var(--fill-color);\n",
              "      border-left-color: var(--fill-color);\n",
              "    }\n",
              "    20% {\n",
              "      border-color: transparent;\n",
              "      border-left-color: var(--fill-color);\n",
              "      border-top-color: var(--fill-color);\n",
              "    }\n",
              "    30% {\n",
              "      border-color: transparent;\n",
              "      border-left-color: var(--fill-color);\n",
              "      border-top-color: var(--fill-color);\n",
              "      border-right-color: var(--fill-color);\n",
              "    }\n",
              "    40% {\n",
              "      border-color: transparent;\n",
              "      border-right-color: var(--fill-color);\n",
              "      border-top-color: var(--fill-color);\n",
              "    }\n",
              "    60% {\n",
              "      border-color: transparent;\n",
              "      border-right-color: var(--fill-color);\n",
              "    }\n",
              "    80% {\n",
              "      border-color: transparent;\n",
              "      border-right-color: var(--fill-color);\n",
              "      border-bottom-color: var(--fill-color);\n",
              "    }\n",
              "    90% {\n",
              "      border-color: transparent;\n",
              "      border-bottom-color: var(--fill-color);\n",
              "    }\n",
              "  }\n",
              "</style>\n",
              "\n",
              "  <script>\n",
              "    async function quickchart(key) {\n",
              "      const quickchartButtonEl =\n",
              "        document.querySelector('#' + key + ' button');\n",
              "      quickchartButtonEl.disabled = true;  // To prevent multiple clicks.\n",
              "      quickchartButtonEl.classList.add('colab-df-spinner');\n",
              "      try {\n",
              "        const charts = await google.colab.kernel.invokeFunction(\n",
              "            'suggestCharts', [key], {});\n",
              "      } catch (error) {\n",
              "        console.error('Error during call to suggestCharts:', error);\n",
              "      }\n",
              "      quickchartButtonEl.classList.remove('colab-df-spinner');\n",
              "      quickchartButtonEl.classList.add('colab-df-quickchart-complete');\n",
              "    }\n",
              "    (() => {\n",
              "      let quickchartButtonEl =\n",
              "        document.querySelector('#df-b7ccf15b-3770-4260-a222-afd97dd120b0 button');\n",
              "      quickchartButtonEl.style.display =\n",
              "        google.colab.kernel.accessAllowed ? 'block' : 'none';\n",
              "    })();\n",
              "  </script>\n",
              "</div>\n",
              "\n",
              "    </div>\n",
              "  </div>\n"
            ],
            "application/vnd.google.colaboratory.intrinsic+json": {
              "type": "dataframe",
              "summary": "{\n  \"name\": \"finData\",\n  \"rows\": 8,\n  \"fields\": [\n    {\n      \"column\": \"TransactionID\",\n      \"properties\": {\n        \"dtype\": \"number\",\n        \"std\": 1359439.202428902,\n        \"min\": 170474.3583204291,\n        \"max\": 3577539.0,\n        \"num_unique_values\": 7,\n        \"samples\": [\n          590540.0,\n          3282269.5,\n          3429904.25\n        ],\n        \"semantic_type\": \"\",\n        \"description\": \"\"\n      }\n    },\n    {\n      \"column\": \"isFraud\",\n      \"properties\": {\n        \"dtype\": \"number\",\n        \"std\": 208787.35772533328,\n        \"min\": 0.0,\n        \"max\": 590540.0,\n        \"num_unique_values\": 5,\n        \"samples\": [\n          0.03499000914417313,\n          1.0,\n          0.18375463417907298\n        ],\n        \"semantic_type\": \"\",\n        \"description\": \"\"\n      }\n    },\n    {\n      \"column\": \"TransactionDT\",\n      \"properties\": {\n        \"dtype\": \"number\",\n        \"std\": 5369618.50880268,\n        \"min\": 86400.0,\n        \"max\": 15811131.0,\n        \"num_unique_values\": 8,\n        \"samples\": [\n          7372311.310116165,\n          7306527.5,\n          590540.0\n        ],\n        \"semantic_type\": \"\",\n        \"description\": \"\"\n      }\n    },\n    {\n      \"column\": \"TransactionAmt\",\n      \"properties\": {\n        \"dtype\": \"number\",\n        \"std\": 207442.80129471057,\n        \"min\": 0.251,\n        \"max\": 590540.0,\n        \"num_unique_values\": 8,\n        \"samples\": [\n          135.02717637247264,\n          68.769,\n          590540.0\n        ],\n        \"semantic_type\": \"\",\n        \"description\": \"\"\n      }\n    }\n  ]\n}"
            }
          },
          "metadata": {},
          "execution_count": 3
        }
      ]
    },
    {
      "cell_type": "markdown",
      "source": [
        "The Transaction Amounts are clearly very varied, there is need for much further data analysis."
      ],
      "metadata": {
        "id": "ETe-kBF13IEr"
      }
    },
    {
      "cell_type": "code",
      "source": [
        "#Visualizing the imbalance in the dataset\n",
        "\n",
        "fraud_counts = finData['isFraud'].value_counts()\n",
        "\n",
        "# Ploting the histogram\n",
        "plt.bar(fraud_counts.index, fraud_counts.values, color=['blue', 'red'], tick_label=['Not Fraud', 'Fraud'])\n",
        "\n",
        "for i, count in enumerate(fraud_counts.values):\n",
        "    plt.text(i, count + 0.02 * max(fraud_counts.values), str(count), ha='center', fontsize=12, color='black')\n",
        "\n",
        "plt.title('Distribution of Fraudulent and Non-Fraudulent Transactions')\n",
        "plt.xlabel('Transaction Type')\n",
        "plt.ylabel('Count')\n",
        "plt.show()"
      ],
      "metadata": {
        "colab": {
          "base_uri": "https://localhost:8080/",
          "height": 472
        },
        "id": "awEkMkjFfsxT",
        "outputId": "709da72e-a5b8-403a-d237-6bcb08fdce98"
      },
      "execution_count": null,
      "outputs": [
        {
          "output_type": "display_data",
          "data": {
            "text/plain": [
              "<Figure size 640x480 with 1 Axes>"
            ],
            "image/png": "[encoded data removed]"
          },
          "metadata": {}
        }
      ]
    },
    {
      "cell_type": "markdown",
      "source": [
        "The ratio of not fraud to fraud transactions is roughly 27:1, there will be a need of downsampling and downsampling and upweighting it to a more reasonable ratio"
      ],
      "metadata": {
        "id": "wJmKmlxz3ZTM"
      }
    },
    {
      "cell_type": "code",
      "source": [
        "plt.hist(finData['TransactionAmt'].clip(upper=1000), bins=50)\n",
        "plt.xlabel('Transaction Amount')\n",
        "plt.ylabel('Frequency')\n",
        "plt.title('Transaction Amount Histogram (Clipped at 1000)')\n",
        "plt.show()"
      ],
      "metadata": {
        "colab": {
          "base_uri": "https://localhost:8080/",
          "height": 472
        },
        "id": "GCVFi2IniHJ8",
        "outputId": "63aaca46-39e6-4a6a-d1f9-f22c83ad7653"
      },
      "execution_count": null,
      "outputs": [
        {
          "output_type": "display_data",
          "data": {
            "text/plain": [
              "<Figure size 640x480 with 1 Axes>"
            ],
            "image/png": "[encoded data removed]"
          },
          "metadata": {}
        }
      ]
    },
    {
      "cell_type": "markdown",
      "source": [
        "Clipping at about 400 would be better to not bias the model too much towards bigger transactions since they are much rarer"
      ],
      "metadata": {
        "id": "Nk55cceo5Q1a"
      }
    },
    {
      "cell_type": "code",
      "source": [
        "\n",
        "plt.hist(finData['TransactionAmt'].clip(upper=400), bins=50)\n",
        "plt.xlabel('Transaction Amount')\n",
        "plt.ylabel('Frequency')\n",
        "plt.title('Transaction Amount Histogram (Clipped at 400)')\n",
        "plt.show()"
      ],
      "metadata": {
        "colab": {
          "base_uri": "https://localhost:8080/",
          "height": 472
        },
        "id": "sPwf6tEJ5f9_",
        "outputId": "90cba48c-9b10-4da7-e049-89aef83f410d"
      },
      "execution_count": null,
      "outputs": [
        {
          "output_type": "display_data",
          "data": {
            "text/plain": [
              "<Figure size 640x480 with 1 Axes>"
            ],
            "image/png": "[encoded data removed]"
          },
          "metadata": {}
        }
      ]
    },
    {
      "cell_type": "code",
      "source": [
        "# filtering for fraud transactions\n",
        "fraud_transactions = finData[finData['isFraud'] == 1]\n",
        "\n",
        "fraud_transactions['amount_clipped'] = fraud_transactions['TransactionAmt'].clip(upper=400)\n",
        "\n",
        "# plotting the histogram\n",
        "plt.hist(fraud_transactions['amount_clipped'], bins=50, color='red', edgecolor='black', alpha=0.7)\n",
        "plt.title('Distribution of Fraudulent Transaction Amounts (Clipped at 400)')\n",
        "plt.xlabel('Transaction Amount')\n",
        "plt.ylabel('Frequency')\n",
        "plt.show()"
      ],
      "metadata": {
        "colab": {
          "base_uri": "https://localhost:8080/",
          "height": 576
        },
        "id": "fiQbfW0fomOp",
        "outputId": "f0879f30-4582-4dcf-b8d5-dc7e65d7b13b"
      },
      "execution_count": null,
      "outputs": [
        {
          "output_type": "stream",
          "name": "stderr",
          "text": [
            "<ipython-input-7-fc04306fc88a>:4: SettingWithCopyWarning: \n",
            "A value is trying to be set on a copy of a slice from a DataFrame.\n",
            "Try using .loc[row_indexer,col_indexer] = value instead\n",
            "\n",
            "See the caveats in the documentation: https://pandas.pydata.org/pandas-docs/stable/user_guide/indexing.html#returning-a-view-versus-a-copy\n",
            "  fraud_transactions['amount_clipped'] = fraud_transactions['TransactionAmt'].clip(upper=400)\n"
          ]
        },
        {
          "output_type": "display_data",
          "data": {
            "text/plain": [
              "<Figure size 640x480 with 1 Axes>"
            ],
            "image/png": "[encoded data removed]"
          },
          "metadata": {}
        }
      ]
    },
    {
      "cell_type": "markdown",
      "source": [
        "IT appears there is more likelihood of the transaction being fraudulent if the amount is too low or too high, that is where the data deviates, also seemingly at nice round numbers"
      ],
      "metadata": {
        "id": "qvUi_5hEpefL"
      }
    },
    {
      "cell_type": "markdown",
      "source": [
        "#Data Preprocessing and Feature Engineering"
      ],
      "metadata": {
        "id": "qq-JgReKnVkG"
      }
    },
    {
      "cell_type": "markdown",
      "source": [
        "Firstly, to use the data in the identity file, we need to keep only the ones for which we have identity data, but also observe if this results in further imbalancing of the dataset or not."
      ],
      "metadata": {
        "id": "iEFlXD6Tninh"
      }
    },
    {
      "cell_type": "code",
      "source": [
        "# Merging the two dataframes based on 'TransactionID'\n",
        "merged_df = pd.merge(finData, identityData, on='TransactionID', how='inner')\n",
        "\n",
        "print(merged_df.head())"
      ],
      "metadata": {
        "colab": {
          "base_uri": "https://localhost:8080/"
        },
        "id": "1_dNb6ug6qn1",
        "outputId": "41589be5-1c09-4a1c-e741-ca3a44b50518"
      },
      "execution_count": null,
      "outputs": [
        {
          "output_type": "stream",
          "name": "stdout",
          "text": [
            "   TransactionID  isFraud  TransactionDT  TransactionAmt       card4   card6  \\\n",
            "0        2987004        0          86506            50.0  mastercard  credit   \n",
            "1        2987008        0          86535            15.0        visa   debit   \n",
            "2        2987010        0          86549            75.9  mastercard  credit   \n",
            "3        2987011        0          86555            16.5  mastercard   debit   \n",
            "4        2987016        0          86620            30.0        visa   debit   \n",
            "\n",
            "   P_emaildomain R_emaildomain             id_30                id_31  \\\n",
            "0      gmail.com           NaN       Android 7.0  samsung browser 6.2   \n",
            "1  anonymous.com           NaN        iOS 11.1.2   mobile safari 11.0   \n",
            "2      gmail.com     gmail.com               NaN          chrome 62.0   \n",
            "3    hotmail.com   hotmail.com               NaN          chrome 62.0   \n",
            "4        aol.com           NaN  Mac OS X 10_11_6          chrome 62.0   \n",
            "\n",
            "  DeviceType                     DeviceInfo  \n",
            "0     mobile  SAMSUNG SM-G892A Build/NRD90M  \n",
            "1     mobile                     iOS Device  \n",
            "2    desktop                        Windows  \n",
            "3    desktop                            NaN  \n",
            "4    desktop                          MacOS  \n"
          ]
        }
      ]
    },
    {
      "cell_type": "markdown",
      "source": [
        "Plotting Not Fraud vs Fraud again"
      ],
      "metadata": {
        "id": "3_3fGSeg68ph"
      }
    },
    {
      "cell_type": "code",
      "source": [
        "mergedFraud_counts = merged_df['isFraud'].value_counts()\n",
        "\n",
        "# Ploting the histogram\n",
        "plt.bar(mergedFraud_counts.index, mergedFraud_counts.values, color=['blue', 'red'], tick_label=['Not Fraud', 'Fraud'])\n",
        "\n",
        "for i, count in enumerate(mergedFraud_counts.values):\n",
        "    plt.text(i, count + 0.02 * max(mergedFraud_counts.values), str(count), ha='center', fontsize=12, color='black')\n",
        "\n",
        "plt.title('Distribution of Fraudulent and Non-Fraudulent Transactions in merged_df')\n",
        "plt.xlabel('Transaction Type')\n",
        "plt.ylabel('Count')\n",
        "plt.show()"
      ],
      "metadata": {
        "colab": {
          "base_uri": "https://localhost:8080/",
          "height": 472
        },
        "id": "BWkJBFKZ7AZW",
        "outputId": "24727d7f-02e3-426b-bdea-f7a76845d22d"
      },
      "execution_count": null,
      "outputs": [
        {
          "output_type": "display_data",
          "data": {
            "text/plain": [
              "<Figure size 640x480 with 1 Axes>"
            ],
            "image/png": "[encoded data removed]"
          },
          "metadata": {}
        }
      ]
    },
    {
      "cell_type": "markdown",
      "source": [
        "This already reduces the imbalance to 11:1 while still having plenty of examples for both scenarios."
      ],
      "metadata": {
        "id": "-K2-1oAk7W6u"
      }
    },
    {
      "cell_type": "markdown",
      "source": [
        "Next, it is important to deal with missing values."
      ],
      "metadata": {
        "id": "83IAPM0C7gTZ"
      }
    },
    {
      "cell_type": "code",
      "source": [
        "# Calculate the number of missing values per column\n",
        "missing_counts = merged_df.isnull().sum()\n",
        "\n",
        "print(\"Missing values per feature:\")\n",
        "print(missing_counts)\n",
        "\n",
        "# Calculating the total number of rows with any missing data\n",
        "rows_with_missing_data = merged_df.isnull().any(axis=1).sum()\n",
        "print(\"\\nTotal number of rows with any missing data:\", rows_with_missing_data)"
      ],
      "metadata": {
        "colab": {
          "base_uri": "https://localhost:8080/"
        },
        "id": "u9nYX1rY7j6i",
        "outputId": "27de4ea3-0db4-4371-ac3c-289875c11e29"
      },
      "execution_count": null,
      "outputs": [
        {
          "output_type": "stream",
          "name": "stdout",
          "text": [
            "Missing values per feature:\n",
            "TransactionID         0\n",
            "isFraud               0\n",
            "TransactionDT         0\n",
            "TransactionAmt        0\n",
            "card4               184\n",
            "                  ...  \n",
            "R_emaildomain     13150\n",
            "id_30             66668\n",
            "id_31              3951\n",
            "DeviceType         3423\n",
            "DeviceInfo        25567\n",
            "Length: 12, dtype: int64\n",
            "\n",
            "Total number of rows with any missing data: 88535\n"
          ]
        }
      ]
    },
    {
      "cell_type": "markdown",
      "source": [
        "Clearly, the number of rows with missing data is way too high to all be removed.\n",
        "\n",
        "R_emaildomain is not that important of a datapoint, it can be neglected.\n",
        "\n",
        "card4 has small enough number of values to be replaced by the most occurring card4 value\n",
        "\n",
        "id_30 and DeviceInfo is rendered unusable with almost half the rows missing, will need to be neglected.\n",
        "\n",
        "id_31 and DeviceType can be filled with the most occurring ones, small enough number of values."
      ],
      "metadata": {
        "id": "Jkpg5-aF753A"
      }
    },
    {
      "cell_type": "code",
      "source": [
        "# Removing the unusable features\n",
        "\n",
        "inter_df = merged_df.drop(columns=['R_emaildomain', 'id_30', 'DeviceInfo'])"
      ],
      "metadata": {
        "id": "mlLWgsGJ8ZUh"
      },
      "execution_count": null,
      "outputs": []
    },
    {
      "cell_type": "code",
      "source": [
        "# Filling missing values with the most occurring value\n",
        "\n",
        "inter_df['card4'] = inter_df['card4'].fillna(inter_df['card4'].mode()[0])\n",
        "inter_df['id_31'] = inter_df['id_31'].fillna(inter_df['id_31'].mode()[0])\n",
        "inter_df['DeviceType'] = inter_df['DeviceType'].fillna(inter_df['DeviceType'].mode()[0])\n",
        "inter_df['P_emaildomain'] = inter_df['P_emaildomain'].fillna(inter_df['P_emaildomain'].mode()[0])\n",
        "inter_df['card6'] = inter_df['card6'].fillna(inter_df['card6'].mode()[0])"
      ],
      "metadata": {
        "id": "l3e0ifbo9Mmo"
      },
      "execution_count": null,
      "outputs": []
    },
    {
      "cell_type": "code",
      "source": [
        "#Confirming that no values are missing\n",
        "\n",
        "missing_counts = inter_df.isnull().sum()\n",
        "\n",
        "print(\"Missing values per feature:\")\n",
        "print(missing_counts)\n",
        "\n",
        "rows_with_missing_data = inter_df.isnull().any(axis=1).sum()\n",
        "print(\"\\nTotal number of rows with any missing data:\", rows_with_missing_data)"
      ],
      "metadata": {
        "colab": {
          "base_uri": "https://localhost:8080/"
        },
        "id": "Obxdwdp29iFg",
        "outputId": "f1b73522-3d78-4911-aca0-49494cec9527"
      },
      "execution_count": null,
      "outputs": [
        {
          "output_type": "stream",
          "name": "stdout",
          "text": [
            "Missing values per feature:\n",
            "TransactionID     0\n",
            "isFraud           0\n",
            "TransactionDT     0\n",
            "TransactionAmt    0\n",
            "card4             0\n",
            "card6             0\n",
            "P_emaildomain     0\n",
            "id_31             0\n",
            "DeviceType        0\n",
            "dtype: int64\n",
            "\n",
            "Total number of rows with any missing data: 0\n"
          ]
        }
      ]
    },
    {
      "cell_type": "code",
      "source": [
        "print(inter_df)"
      ],
      "metadata": {
        "colab": {
          "base_uri": "https://localhost:8080/"
        },
        "id": "IhD6y0HrX5ud",
        "outputId": "768fca8d-d805-4f3b-a45e-29246ea82c7b"
      },
      "execution_count": null,
      "outputs": [
        {
          "output_type": "stream",
          "name": "stdout",
          "text": [
            "        TransactionID  isFraud  TransactionDT  TransactionAmt       card4  \\\n",
            "0             2987004        0          86506            50.0  mastercard   \n",
            "1             2987008        0          86535            15.0        visa   \n",
            "2             2987010        0          86549            75.9  mastercard   \n",
            "3             2987011        0          86555            16.5  mastercard   \n",
            "4             2987016        0          86620            30.0        visa   \n",
            "...               ...      ...            ...             ...         ...   \n",
            "144228        3577521        0       15810802            48.9  mastercard   \n",
            "144229        3577526        1       15810876           250.0        visa   \n",
            "144230        3577529        0       15810912            73.8  mastercard   \n",
            "144231        3577531        0       15810935           400.0        visa   \n",
            "144232        3577534        0       15811030            67.5  mastercard   \n",
            "\n",
            "         card6  P_emaildomain                    id_31 DeviceType  \n",
            "0       credit      gmail.com      samsung browser 6.2     mobile  \n",
            "1        debit  anonymous.com       mobile safari 11.0     mobile  \n",
            "2       credit      gmail.com              chrome 62.0    desktop  \n",
            "3        debit    hotmail.com              chrome 62.0    desktop  \n",
            "4        debit        aol.com              chrome 62.0    desktop  \n",
            "...        ...            ...                      ...        ...  \n",
            "144228   debit       yahoo.fr  chrome 66.0 for android     mobile  \n",
            "144229  credit      gmail.com  chrome 55.0 for android     mobile  \n",
            "144230  credit      gmail.com  chrome 65.0 for android     mobile  \n",
            "144231  credit      gmail.com              chrome 66.0    desktop  \n",
            "144232   debit      gmail.com  chrome 66.0 for android     mobile  \n",
            "\n",
            "[144233 rows x 9 columns]\n"
          ]
        }
      ]
    },
    {
      "cell_type": "markdown",
      "source": [
        "Let's check how many distinct values are there for card4, card6, P_emaildomain, id_31, DeviceType."
      ],
      "metadata": {
        "id": "kxrf6XyXY-zh"
      }
    },
    {
      "cell_type": "code",
      "source": [
        "# Printing the number of distinct values for specified columns\n",
        "for col in ['card4', 'card6', 'P_emaildomain', 'id_31', 'DeviceType']:\n",
        "    print(f'Distinct values for {col}: {inter_df[col].nunique()}')"
      ],
      "metadata": {
        "colab": {
          "base_uri": "https://localhost:8080/"
        },
        "id": "2TMMfAPsZQnM",
        "outputId": "304bf503-bb0f-482c-94ab-68e286977d45"
      },
      "execution_count": null,
      "outputs": [
        {
          "output_type": "stream",
          "name": "stdout",
          "text": [
            "Distinct values for card4: 4\n",
            "Distinct values for card6: 3\n",
            "Distinct values for P_emaildomain: 59\n",
            "Distinct values for id_31: 130\n",
            "Distinct values for DeviceType: 2\n"
          ]
        }
      ]
    },
    {
      "cell_type": "code",
      "source": [
        "# Printing unique card 4, card6, DeviceType values\n",
        "print(inter_df['card4'].unique(), inter_df['card6'].unique(), inter_df['DeviceType'].unique())"
      ],
      "metadata": {
        "colab": {
          "base_uri": "https://localhost:8080/"
        },
        "id": "X8ww53iMZs3D",
        "outputId": "8a347bd5-d7fd-4b32-fd9d-5e69936bad0e"
      },
      "execution_count": null,
      "outputs": [
        {
          "output_type": "stream",
          "name": "stdout",
          "text": [
            "['mastercard' 'visa' 'american express' 'discover'] ['credit' 'debit' 'charge card'] ['mobile' 'desktop']\n"
          ]
        }
      ]
    },
    {
      "cell_type": "markdown",
      "source": [
        "These values can be dealt with using one-hot encoding"
      ],
      "metadata": {
        "id": "Jr4ieP0UaL-5"
      }
    },
    {
      "cell_type": "code",
      "source": [
        "# One-hot encoding 'card4', 'card6', and 'DeviceType'\n",
        "inter_df = pd.get_dummies(inter_df, columns=['card4', 'card6', 'DeviceType'])\n",
        "\n",
        "print(inter_df.head())"
      ],
      "metadata": {
        "colab": {
          "base_uri": "https://localhost:8080/"
        },
        "id": "kBgIs7AHaaG-",
        "outputId": "8048c465-e642-4e39-9322-8bf2686b8db7"
      },
      "execution_count": null,
      "outputs": [
        {
          "output_type": "stream",
          "name": "stdout",
          "text": [
            "   TransactionID  isFraud  TransactionDT  TransactionAmt  P_emaildomain  \\\n",
            "0        2987004        0          86506            50.0      gmail.com   \n",
            "1        2987008        0          86535            15.0  anonymous.com   \n",
            "2        2987010        0          86549            75.9      gmail.com   \n",
            "3        2987011        0          86555            16.5    hotmail.com   \n",
            "4        2987016        0          86620            30.0        aol.com   \n",
            "\n",
            "                 id_31  card4_american express  card4_discover  \\\n",
            "0  samsung browser 6.2                   False           False   \n",
            "1   mobile safari 11.0                   False           False   \n",
            "2          chrome 62.0                   False           False   \n",
            "3          chrome 62.0                   False           False   \n",
            "4          chrome 62.0                   False           False   \n",
            "\n",
            "   card4_mastercard  card4_visa  card6_charge card  card6_credit  card6_debit  \\\n",
            "0              True       False              False          True        False   \n",
            "1             False        True              False         False         True   \n",
            "2              True       False              False          True        False   \n",
            "3              True       False              False         False         True   \n",
            "4             False        True              False         False         True   \n",
            "\n",
            "   DeviceType_desktop  DeviceType_mobile  \n",
            "0               False               True  \n",
            "1               False               True  \n",
            "2                True              False  \n",
            "3                True              False  \n",
            "4                True              False  \n"
          ]
        }
      ]
    },
    {
      "cell_type": "code",
      "source": [
        "print(inter_df)"
      ],
      "metadata": {
        "colab": {
          "base_uri": "https://localhost:8080/"
        },
        "id": "fmpHnnQzcFpa",
        "outputId": "433ae572-1e81-469b-e225-8af6f930d772"
      },
      "execution_count": null,
      "outputs": [
        {
          "output_type": "stream",
          "name": "stdout",
          "text": [
            "        TransactionID  isFraud  TransactionDT  TransactionAmt  P_emaildomain  \\\n",
            "0             2987004        0          86506            50.0      gmail.com   \n",
            "1             2987008        0          86535            15.0  anonymous.com   \n",
            "2             2987010        0          86549            75.9      gmail.com   \n",
            "3             2987011        0          86555            16.5    hotmail.com   \n",
            "4             2987016        0          86620            30.0        aol.com   \n",
            "...               ...      ...            ...             ...            ...   \n",
            "144228        3577521        0       15810802            48.9       yahoo.fr   \n",
            "144229        3577526        1       15810876           250.0      gmail.com   \n",
            "144230        3577529        0       15810912            73.8      gmail.com   \n",
            "144231        3577531        0       15810935           400.0      gmail.com   \n",
            "144232        3577534        0       15811030            67.5      gmail.com   \n",
            "\n",
            "                          id_31  card4_american express  card4_discover  \\\n",
            "0           samsung browser 6.2                   False           False   \n",
            "1            mobile safari 11.0                   False           False   \n",
            "2                   chrome 62.0                   False           False   \n",
            "3                   chrome 62.0                   False           False   \n",
            "4                   chrome 62.0                   False           False   \n",
            "...                         ...                     ...             ...   \n",
            "144228  chrome 66.0 for android                   False           False   \n",
            "144229  chrome 55.0 for android                   False           False   \n",
            "144230  chrome 65.0 for android                   False           False   \n",
            "144231              chrome 66.0                   False           False   \n",
            "144232  chrome 66.0 for android                   False           False   \n",
            "\n",
            "        card4_mastercard  card4_visa  card6_charge card  card6_credit  \\\n",
            "0                   True       False              False          True   \n",
            "1                  False        True              False         False   \n",
            "2                   True       False              False          True   \n",
            "3                   True       False              False         False   \n",
            "4                  False        True              False         False   \n",
            "...                  ...         ...                ...           ...   \n",
            "144228              True       False              False         False   \n",
            "144229             False        True              False          True   \n",
            "144230              True       False              False          True   \n",
            "144231             False        True              False          True   \n",
            "144232              True       False              False         False   \n",
            "\n",
            "        card6_debit  DeviceType_desktop  DeviceType_mobile  \n",
            "0             False               False               True  \n",
            "1              True               False               True  \n",
            "2             False                True              False  \n",
            "3              True                True              False  \n",
            "4              True                True              False  \n",
            "...             ...                 ...                ...  \n",
            "144228         True               False               True  \n",
            "144229        False               False               True  \n",
            "144230        False               False               True  \n",
            "144231        False                True              False  \n",
            "144232         True               False               True  \n",
            "\n",
            "[144233 rows x 15 columns]\n"
          ]
        }
      ]
    },
    {
      "cell_type": "code",
      "source": [
        "encoded_columns = inter_df.select_dtypes(include=['bool']).columns\n",
        "inter_df[encoded_columns] = inter_df[encoded_columns].astype(int)"
      ],
      "metadata": {
        "id": "yFqtcjhGdxVA"
      },
      "execution_count": null,
      "outputs": []
    },
    {
      "cell_type": "code",
      "source": [
        "print(inter_df)"
      ],
      "metadata": {
        "colab": {
          "base_uri": "https://localhost:8080/"
        },
        "id": "ofm0Cd7nd1OU",
        "outputId": "153c83f2-604d-4a22-89b7-9319ccc5f4f9"
      },
      "execution_count": null,
      "outputs": [
        {
          "output_type": "stream",
          "name": "stdout",
          "text": [
            "        TransactionID  isFraud  TransactionDT  TransactionAmt  P_emaildomain  \\\n",
            "0             2987004        0          86506            50.0      gmail.com   \n",
            "1             2987008        0          86535            15.0  anonymous.com   \n",
            "2             2987010        0          86549            75.9      gmail.com   \n",
            "3             2987011        0          86555            16.5    hotmail.com   \n",
            "4             2987016        0          86620            30.0        aol.com   \n",
            "...               ...      ...            ...             ...            ...   \n",
            "144228        3577521        0       15810802            48.9       yahoo.fr   \n",
            "144229        3577526        1       15810876           250.0      gmail.com   \n",
            "144230        3577529        0       15810912            73.8      gmail.com   \n",
            "144231        3577531        0       15810935           400.0      gmail.com   \n",
            "144232        3577534        0       15811030            67.5      gmail.com   \n",
            "\n",
            "                          id_31  card4_american express  card4_discover  \\\n",
            "0           samsung browser 6.2                       0               0   \n",
            "1            mobile safari 11.0                       0               0   \n",
            "2                   chrome 62.0                       0               0   \n",
            "3                   chrome 62.0                       0               0   \n",
            "4                   chrome 62.0                       0               0   \n",
            "...                         ...                     ...             ...   \n",
            "144228  chrome 66.0 for android                       0               0   \n",
            "144229  chrome 55.0 for android                       0               0   \n",
            "144230  chrome 65.0 for android                       0               0   \n",
            "144231              chrome 66.0                       0               0   \n",
            "144232  chrome 66.0 for android                       0               0   \n",
            "\n",
            "        card4_mastercard  card4_visa  card6_charge card  card6_credit  \\\n",
            "0                      1           0                  0             1   \n",
            "1                      0           1                  0             0   \n",
            "2                      1           0                  0             1   \n",
            "3                      1           0                  0             0   \n",
            "4                      0           1                  0             0   \n",
            "...                  ...         ...                ...           ...   \n",
            "144228                 1           0                  0             0   \n",
            "144229                 0           1                  0             1   \n",
            "144230                 1           0                  0             1   \n",
            "144231                 0           1                  0             1   \n",
            "144232                 1           0                  0             0   \n",
            "\n",
            "        card6_debit  DeviceType_desktop  DeviceType_mobile  \n",
            "0                 0                   0                  1  \n",
            "1                 1                   0                  1  \n",
            "2                 0                   1                  0  \n",
            "3                 1                   1                  0  \n",
            "4                 1                   1                  0  \n",
            "...             ...                 ...                ...  \n",
            "144228            1                   0                  1  \n",
            "144229            0                   0                  1  \n",
            "144230            0                   0                  1  \n",
            "144231            0                   1                  0  \n",
            "144232            1                   0                  1  \n",
            "\n",
            "[144233 rows x 15 columns]\n"
          ]
        }
      ]
    },
    {
      "cell_type": "markdown",
      "source": [
        "id_31, P_emaildomain can be dealt with the sparse one hot encoding representation"
      ],
      "metadata": {
        "id": "irNVvQ9cbB2c"
      }
    },
    {
      "cell_type": "code",
      "source": [
        "# Creating a OneHotEncoder object with sparse=True\n",
        "enc = OneHotEncoder(handle_unknown='ignore', sparse_output=True)\n",
        "\n",
        "enc.fit(inter_df[['id_31', 'P_emaildomain']])\n",
        "\n",
        "encoded_data = enc.transform(inter_df[['id_31', 'P_emaildomain']])\n",
        "\n",
        "encoded_df = pd.DataFrame.sparse.from_spmatrix(encoded_data)\n",
        "\n",
        "inter_df = pd.concat([inter_df, encoded_df], axis=1)\n",
        "\n",
        "# Dropping the original 'id_31' and 'P_emaildomain' columns\n",
        "inter_df = inter_df.drop(['id_31', 'P_emaildomain'], axis=1)\n",
        "\n",
        "print(inter_df.head())"
      ],
      "metadata": {
        "colab": {
          "base_uri": "https://localhost:8080/"
        },
        "id": "ZhIb6OJHd_Os",
        "outputId": "28bda3d9-7c4e-4dd5-fde8-2fa499674ae0"
      },
      "execution_count": null,
      "outputs": [
        {
          "output_type": "stream",
          "name": "stdout",
          "text": [
            "   TransactionID  isFraud  TransactionDT  TransactionAmt  \\\n",
            "0        2987004        0          86506            50.0   \n",
            "1        2987008        0          86535            15.0   \n",
            "2        2987010        0          86549            75.9   \n",
            "3        2987011        0          86555            16.5   \n",
            "4        2987016        0          86620            30.0   \n",
            "\n",
            "   card4_american express  card4_discover  card4_mastercard  card4_visa  \\\n",
            "0                       0               0                 1           0   \n",
            "1                       0               0                 0           1   \n",
            "2                       0               0                 1           0   \n",
            "3                       0               0                 1           0   \n",
            "4                       0               0                 0           1   \n",
            "\n",
            "   card6_charge card  card6_credit  ...  179  180  181  182  183  184  185  \\\n",
            "0                  0             1  ...    0    0    0    0    0    0    0   \n",
            "1                  0             0  ...    0    0    0    0    0    0    0   \n",
            "2                  0             1  ...    0    0    0    0    0    0    0   \n",
            "3                  0             0  ...    0    0    0    0    0    0    0   \n",
            "4                  0             0  ...    0    0    0    0    0    0    0   \n",
            "\n",
            "   186  187  188  \n",
            "0    0    0    0  \n",
            "1    0    0    0  \n",
            "2    0    0    0  \n",
            "3    0    0    0  \n",
            "4    0    0    0  \n",
            "\n",
            "[5 rows x 202 columns]\n"
          ]
        }
      ]
    },
    {
      "cell_type": "markdown",
      "source": [
        "TransactionDT and TransactionID is not of much use from a training perspective, dropping it in the following code section"
      ],
      "metadata": {
        "id": "dJpAVrUPee5k"
      }
    },
    {
      "cell_type": "code",
      "source": [
        "inter_df = inter_df.drop(columns=['TransactionDT', 'TransactionID'])\n",
        "print(inter_df.head())"
      ],
      "metadata": {
        "colab": {
          "base_uri": "https://localhost:8080/"
        },
        "id": "lA-yBsV6ekMO",
        "outputId": "6fbc5c30-80b1-441b-ec4d-30d0dde109ea"
      },
      "execution_count": null,
      "outputs": [
        {
          "output_type": "stream",
          "name": "stdout",
          "text": [
            "   isFraud  TransactionAmt  card4_american express  card4_discover  \\\n",
            "0        0            50.0                       0               0   \n",
            "1        0            15.0                       0               0   \n",
            "2        0            75.9                       0               0   \n",
            "3        0            16.5                       0               0   \n",
            "4        0            30.0                       0               0   \n",
            "\n",
            "   card4_mastercard  card4_visa  card6_charge card  card6_credit  card6_debit  \\\n",
            "0                 1           0                  0             1            0   \n",
            "1                 0           1                  0             0            1   \n",
            "2                 1           0                  0             1            0   \n",
            "3                 1           0                  0             0            1   \n",
            "4                 0           1                  0             0            1   \n",
            "\n",
            "   DeviceType_desktop  ...  179  180  181  182  183  184  185  186  187  188  \n",
            "0                   0  ...    0    0    0    0    0    0    0    0    0    0  \n",
            "1                   0  ...    0    0    0    0    0    0    0    0    0    0  \n",
            "2                   1  ...    0    0    0    0    0    0    0    0    0    0  \n",
            "3                   1  ...    0    0    0    0    0    0    0    0    0    0  \n",
            "4                   1  ...    0    0    0    0    0    0    0    0    0    0  \n",
            "\n",
            "[5 rows x 200 columns]\n"
          ]
        }
      ]
    },
    {
      "cell_type": "markdown",
      "source": [
        "As a final step, we need to normalize TransactionAmt using Z-score scaling, after clipping it at 400"
      ],
      "metadata": {
        "id": "R0K2PYjce-Oc"
      }
    },
    {
      "cell_type": "code",
      "source": [
        "# Clipping TransactionAmt at 400 and scaling it\n",
        "inter_df['TransactionAmt'] = inter_df['TransactionAmt'].clip(upper=400)\n",
        "scaler = StandardScaler()\n",
        "\n",
        "inter_df['TransactionAmt'] = scaler.fit_transform(inter_df[['TransactionAmt']])\n",
        "\n",
        "print(inter_df.head())"
      ],
      "metadata": {
        "colab": {
          "base_uri": "https://localhost:8080/"
        },
        "id": "EIX9kz8tfOZ6",
        "outputId": "e85a177d-f155-4b68-b4e7-22e989948870"
      },
      "execution_count": null,
      "outputs": [
        {
          "output_type": "stream",
          "name": "stdout",
          "text": [
            "   isFraud  TransactionAmt  card4_american express  card4_discover  \\\n",
            "0        0            -0.4                       0               0   \n",
            "1        0            -0.8                       0               0   \n",
            "2        0            -0.1                       0               0   \n",
            "3        0            -0.8                       0               0   \n",
            "4        0            -0.6                       0               0   \n",
            "\n",
            "   card4_mastercard  card4_visa  card6_charge card  card6_credit  card6_debit  \\\n",
            "0                 1           0                  0             1            0   \n",
            "1                 0           1                  0             0            1   \n",
            "2                 1           0                  0             1            0   \n",
            "3                 1           0                  0             0            1   \n",
            "4                 0           1                  0             0            1   \n",
            "\n",
            "   DeviceType_desktop  ...  179  180  181  182  183  184  185  186  187  188  \n",
            "0                   0  ...    0    0    0    0    0    0    0    0    0    0  \n",
            "1                   0  ...    0    0    0    0    0    0    0    0    0    0  \n",
            "2                   1  ...    0    0    0    0    0    0    0    0    0    0  \n",
            "3                   1  ...    0    0    0    0    0    0    0    0    0    0  \n",
            "4                   1  ...    0    0    0    0    0    0    0    0    0    0  \n",
            "\n",
            "[5 rows x 200 columns]\n"
          ]
        }
      ]
    },
    {
      "cell_type": "code",
      "source": [
        "import json\n",
        "import joblib\n",
        "from google.colab import files\n",
        "\n",
        "joblib.dump(enc, 'encoder.joblib')\n",
        "\n",
        "categorical_features = ['id_31', 'P_emaildomain']\n",
        "categories = enc.categories_\n",
        "feature_names = enc.get_feature_names_out(categorical_features)\n",
        "\n",
        "\n",
        "encoder_info = {\n",
        "    'categories': [list(cat) for cat in categories],\n",
        "    'feature_names': list(feature_names)\n",
        "}\n",
        "with open('encoder_info.json', 'w') as f:\n",
        "    json.dump(encoder_info, f)\n",
        "\n",
        "# Download the files\n",
        "files.download('encoder.joblib')\n",
        "files.download('encoder_info.json')\n",
        "\n",
        "joblib.dump(scaler, 'zscore_scaler.joblib')\n",
        "\n",
        "files.download('zscore_scaler.joblib')"
      ],
      "metadata": {
        "colab": {
          "base_uri": "https://localhost:8080/",
          "height": 17
        },
        "id": "mqdC9BW_8k8l",
        "outputId": "dc1b93e7-9984-46ea-eb2f-a6aa74f277fa"
      },
      "execution_count": null,
      "outputs": [
        {
          "output_type": "display_data",
          "data": {
            "text/plain": [
              "<IPython.core.display.Javascript object>"
            ],
            "application/javascript": [
              "\n",
              "    async function download(id, filename, size) {\n",
              "      if (!google.colab.kernel.accessAllowed) {\n",
              "        return;\n",
              "      }\n",
              "      const div = document.createElement('div');\n",
              "      const label = document.createElement('label');\n",
              "      label.textContent = `Downloading \"${filename}\": `;\n",
              "      div.appendChild(label);\n",
              "      const progress = document.createElement('progress');\n",
              "      progress.max = size;\n",
              "      div.appendChild(progress);\n",
              "      document.body.appendChild(div);\n",
              "\n",
              "      const buffers = [];\n",
              "      let downloaded = 0;\n",
              "\n",
              "      const channel = await google.colab.kernel.comms.open(id);\n",
              "      // Send a message to notify the kernel that we're ready.\n",
              "      channel.send({})\n",
              "\n",
              "      for await (const message of channel.messages) {\n",
              "        // Send a message to notify the kernel that we're ready.\n",
              "        channel.send({})\n",
              "        if (message.buffers) {\n",
              "          for (const buffer of message.buffers) {\n",
              "            buffers.push(buffer);\n",
              "            downloaded += buffer.byteLength;\n",
              "            progress.value = downloaded;\n",
              "          }\n",
              "        }\n",
              "      }\n",
              "      const blob = new Blob(buffers, {type: 'application/binary'});\n",
              "      const a = document.createElement('a');\n",
              "      a.href = window.URL.createObjectURL(blob);\n",
              "      a.download = filename;\n",
              "      div.appendChild(a);\n",
              "      a.click();\n",
              "      div.remove();\n",
              "    }\n",
              "  "
            ]
          },
          "metadata": {}
        },
        {
          "output_type": "display_data",
          "data": {
            "text/plain": [
              "<IPython.core.display.Javascript object>"
            ],
            "application/javascript": [
              "download(\"download_c3b9aebe-42c2-4bee-9f43-6d4caf5222e6\", \"encoder.joblib\", 5086)"
            ]
          },
          "metadata": {}
        },
        {
          "output_type": "display_data",
          "data": {
            "text/plain": [
              "<IPython.core.display.Javascript object>"
            ],
            "application/javascript": [
              "\n",
              "    async function download(id, filename, size) {\n",
              "      if (!google.colab.kernel.accessAllowed) {\n",
              "        return;\n",
              "      }\n",
              "      const div = document.createElement('div');\n",
              "      const label = document.createElement('label');\n",
              "      label.textContent = `Downloading \"${filename}\": `;\n",
              "      div.appendChild(label);\n",
              "      const progress = document.createElement('progress');\n",
              "      progress.max = size;\n",
              "      div.appendChild(progress);\n",
              "      document.body.appendChild(div);\n",
              "\n",
              "      const buffers = [];\n",
              "      let downloaded = 0;\n",
              "\n",
              "      const channel = await google.colab.kernel.comms.open(id);\n",
              "      // Send a message to notify the kernel that we're ready.\n",
              "      channel.send({})\n",
              "\n",
              "      for await (const message of channel.messages) {\n",
              "        // Send a message to notify the kernel that we're ready.\n",
              "        channel.send({})\n",
              "        if (message.buffers) {\n",
              "          for (const buffer of message.buffers) {\n",
              "            buffers.push(buffer);\n",
              "            downloaded += buffer.byteLength;\n",
              "            progress.value = downloaded;\n",
              "          }\n",
              "        }\n",
              "      }\n",
              "      const blob = new Blob(buffers, {type: 'application/binary'});\n",
              "      const a = document.createElement('a');\n",
              "      a.href = window.URL.createObjectURL(blob);\n",
              "      a.download = filename;\n",
              "      div.appendChild(a);\n",
              "      a.click();\n",
              "      div.remove();\n",
              "    }\n",
              "  "
            ]
          },
          "metadata": {}
        },
        {
          "output_type": "display_data",
          "data": {
            "text/plain": [
              "<IPython.core.display.Javascript object>"
            ],
            "application/javascript": [
              "download(\"download_718861ba-eade-4283-9cc9-949aed8a02e7\", \"encoder_info.json\", 8039)"
            ]
          },
          "metadata": {}
        },
        {
          "output_type": "display_data",
          "data": {
            "text/plain": [
              "<IPython.core.display.Javascript object>"
            ],
            "application/javascript": [
              "\n",
              "    async function download(id, filename, size) {\n",
              "      if (!google.colab.kernel.accessAllowed) {\n",
              "        return;\n",
              "      }\n",
              "      const div = document.createElement('div');\n",
              "      const label = document.createElement('label');\n",
              "      label.textContent = `Downloading \"${filename}\": `;\n",
              "      div.appendChild(label);\n",
              "      const progress = document.createElement('progress');\n",
              "      progress.max = size;\n",
              "      div.appendChild(progress);\n",
              "      document.body.appendChild(div);\n",
              "\n",
              "      const buffers = [];\n",
              "      let downloaded = 0;\n",
              "\n",
              "      const channel = await google.colab.kernel.comms.open(id);\n",
              "      // Send a message to notify the kernel that we're ready.\n",
              "      channel.send({})\n",
              "\n",
              "      for await (const message of channel.messages) {\n",
              "        // Send a message to notify the kernel that we're ready.\n",
              "        channel.send({})\n",
              "        if (message.buffers) {\n",
              "          for (const buffer of message.buffers) {\n",
              "            buffers.push(buffer);\n",
              "            downloaded += buffer.byteLength;\n",
              "            progress.value = downloaded;\n",
              "          }\n",
              "        }\n",
              "      }\n",
              "      const blob = new Blob(buffers, {type: 'application/binary'});\n",
              "      const a = document.createElement('a');\n",
              "      a.href = window.URL.createObjectURL(blob);\n",
              "      a.download = filename;\n",
              "      div.appendChild(a);\n",
              "      a.click();\n",
              "      div.remove();\n",
              "    }\n",
              "  "
            ]
          },
          "metadata": {}
        },
        {
          "output_type": "display_data",
          "data": {
            "text/plain": [
              "<IPython.core.display.Javascript object>"
            ],
            "application/javascript": [
              "download(\"download_c154d22d-8cdd-4051-a384-717e9ac41d8c\", \"zscore_scaler.joblib\", 943)"
            ]
          },
          "metadata": {}
        }
      ]
    },
    {
      "cell_type": "code",
      "source": [
        "print(merged_df[merged_df['isFraud'] == 1].head())"
      ],
      "metadata": {
        "colab": {
          "base_uri": "https://localhost:8080/"
        },
        "id": "qVd34MHqEqfP",
        "outputId": "21ea7dae-7a87-405e-ae9f-1a16df9774aa"
      },
      "execution_count": null,
      "outputs": [
        {
          "output_type": "stream",
          "name": "stdout",
          "text": [
            "    TransactionID  isFraud  TransactionDT  TransactionAmt       card4   card6  \\\n",
            "52        2987240        1          90193            37.1        visa  credit   \n",
            "53        2987243        1          90246            37.1        visa  credit   \n",
            "54        2987245        1          90295            37.1        visa  credit   \n",
            "69        2987288        1          90986           155.5        visa  credit   \n",
            "86        2987367        1          92350           225.0  mastercard  credit   \n",
            "\n",
            "   P_emaildomain R_emaildomain       id_30                    id_31  \\\n",
            "52   hotmail.com   hotmail.com         NaN  chrome 54.0 for android   \n",
            "53   hotmail.com   hotmail.com         NaN  chrome 54.0 for android   \n",
            "54   hotmail.com   hotmail.com         NaN  chrome 54.0 for android   \n",
            "69   outlook.com   outlook.com         NaN      chrome 62.0 for ios   \n",
            "86     gmail.com     gmail.com  Windows 10                  firefox   \n",
            "\n",
            "   DeviceType                 DeviceInfo  \n",
            "52     mobile  Redmi Note 4 Build/MMB29M  \n",
            "53     mobile  Redmi Note 4 Build/MMB29M  \n",
            "54     mobile  Redmi Note 4 Build/MMB29M  \n",
            "69     mobile                        NaN  \n",
            "86    desktop                    rv:52.0  \n"
          ]
        }
      ]
    },
    {
      "cell_type": "markdown",
      "source": [
        "#Addressing Class Imbalance"
      ],
      "metadata": {
        "id": "QYjA2chngLF2"
      }
    },
    {
      "cell_type": "markdown",
      "source": [
        "We have seen before how the number of non fraudulent to fraudulent transactions is 11:1. Let's make it 3:1 by using imbalanced-learn"
      ],
      "metadata": {
        "id": "7e_yUD-ig3s-"
      }
    },
    {
      "cell_type": "code",
      "source": [
        "X = inter_df.drop('isFraud', axis=1)\n",
        "y = inter_df['isFraud']\n",
        "\n",
        "# Converting all column names to strings\n",
        "X.columns = X.columns.astype(str)\n",
        "\n",
        "# Combining RandomUnderSampler and RandomOverSampler\n",
        "over = RandomOverSampler(sampling_strategy=0.33) # sampling_strategy=0.33 for 3:1 ratio\n",
        "under = RandomUnderSampler(sampling_strategy=0.33) # sampling_strategy=0.33 for 3:1 ratio\n",
        "X_over, y_over = over.fit_resample(X, y)\n",
        "X_resampled, y_resampled = under.fit_resample(X_over, y_over)\n",
        "\n",
        "# Creating a new DataFrame with the resampled data\n",
        "inter_df_resampled = pd.DataFrame(X_resampled, columns=X.columns)\n",
        "inter_df_resampled['isFraud'] = y_resampled\n",
        "\n",
        "print(inter_df_resampled['isFraud'].value_counts())"
      ],
      "metadata": {
        "colab": {
          "base_uri": "https://localhost:8080/"
        },
        "id": "JBSm3R-5iVQ7",
        "outputId": "1e5e0f8d-069a-4e61-c086-17fb635d516d"
      },
      "execution_count": null,
      "outputs": [
        {
          "output_type": "stream",
          "name": "stdout",
          "text": [
            "isFraud\n",
            "0    132912\n",
            "1     43861\n",
            "Name: count, dtype: int64\n"
          ]
        }
      ]
    },
    {
      "cell_type": "markdown",
      "source": [
        "#Training using Logistic Regression and Evaluation"
      ],
      "metadata": {
        "id": "4O01wiq_jBP7"
      }
    },
    {
      "cell_type": "markdown",
      "source": [
        "Below is the code for training and evaluating the model using Logistic Regression. After trying several activation functions, I found sigmoid to be best"
      ],
      "metadata": {
        "id": "ViKgFcHutdOx"
      }
    },
    {
      "cell_type": "code",
      "source": [
        "import pandas as pd\n",
        "from sklearn.model_selection import train_test_split\n",
        "from sklearn.linear_model import LogisticRegression\n",
        "from sklearn.metrics import accuracy_score, classification_report, roc_auc_score, precision_recall_curve, auc, roc_curve # Importing roc_curve\n",
        "from sklearn.preprocessing import StandardScaler\n",
        "import tensorflow as tf\n",
        "from tensorflow import keras\n",
        "import matplotlib.pyplot as plt\n",
        "from sklearn.metrics import RocCurveDisplay, PrecisionRecallDisplay\n",
        "\n",
        "# Assuming 'inter_df_resampled' is your preprocessed DataFrame\n",
        "X = inter_df_resampled.drop('isFraud', axis=1)\n",
        "y = inter_df_resampled['isFraud']\n",
        "\n",
        "X_train, X_test, y_train, y_test = train_test_split(X, y, test_size=0.2, random_state=42)\n",
        "scaler = StandardScaler()\n",
        "X_train = scaler.fit_transform(X_train)\n",
        "X_test = scaler.transform(X_test)\n",
        "\n",
        "# Building the Logistic Regression model using Keras\n",
        "model = keras.Sequential([\n",
        "    keras.layers.Dense(1, activation='sigmoid', input_shape=(X_train.shape[1],))\n",
        "])\n",
        "\n",
        "model.compile(optimizer='adam', loss='binary_crossentropy', metrics=['accuracy'])\n",
        "\n",
        "# Train the model\n",
        "model.fit(X_train, y_train, epochs=10, batch_size=100, validation_split=0.3)\n",
        "\n",
        "# Evaluate the model\n",
        "y_pred_prob = model.predict(X_test)  # Predicted probabilities\n",
        "y_pred = (y_pred_prob > 0.65).astype(int)  # Convert probabilities to class labels\n",
        "\n",
        "accuracy = accuracy_score(y_test, y_pred)\n",
        "print(f\"Accuracy: {accuracy}\")\n",
        "print(classification_report(y_test, y_pred))\n",
        "\n",
        "# Computing ROC AUC score\n",
        "roc_auc = roc_auc_score(y_test, y_pred_prob)\n",
        "print(f\"ROC AUC Score: {roc_auc}\")\n",
        "\n",
        "# Calculating fpr and tpr using roc_curve before plotting\n",
        "fpr, tpr, _ = roc_curve(y_test, y_pred_prob) # Calculating fpr and tpr\n",
        "\n",
        "# Plotting ROC Curve\n",
        "roc_display = RocCurveDisplay(fpr=fpr, tpr=tpr, roc_auc=roc_auc, estimator_name=\"Model\").plot()\n",
        "\n",
        "precision, recall, _ = precision_recall_curve(y_test, y_pred_prob)\n",
        "pr_auc = auc(recall, precision)\n",
        "print(f\"Precision-Recall AUC Score: {pr_auc}\")\n",
        "\n",
        "pr_display = PrecisionRecallDisplay(precision=precision, recall=recall, average_precision=pr_auc).plot()"
      ],
      "metadata": {
        "colab": {
          "base_uri": "https://localhost:8080/",
          "height": 1000
        },
        "id": "lg3S6MjDw2tl",
        "outputId": "108cdf85-6ec7-490d-8c35-d3c69d5e60ed"
      },
      "execution_count": null,
      "outputs": [
        {
          "output_type": "stream",
          "name": "stderr",
          "text": [
            "/usr/local/lib/python3.10/dist-packages/sklearn/utils/validation.py:877: UserWarning: pandas.DataFrame with sparse columns found.It will be converted to a dense numpy array.\n",
            "  warnings.warn(\n",
            "/usr/local/lib/python3.10/dist-packages/sklearn/utils/validation.py:877: UserWarning: pandas.DataFrame with sparse columns found.It will be converted to a dense numpy array.\n",
            "  warnings.warn(\n",
            "/usr/local/lib/python3.10/dist-packages/sklearn/utils/validation.py:877: UserWarning: pandas.DataFrame with sparse columns found.It will be converted to a dense numpy array.\n",
            "  warnings.warn(\n",
            "/usr/local/lib/python3.10/dist-packages/keras/src/layers/core/dense.py:87: UserWarning: Do not pass an `input_shape`/`input_dim` argument to a layer. When using Sequential models, prefer using an `Input(shape)` object as the first layer in the model instead.\n",
            "  super().__init__(activity_regularizer=activity_regularizer, **kwargs)\n"
          ]
        },
        {
          "output_type": "stream",
          "name": "stdout",
          "text": [
            "Epoch 1/10\n",
            "\u001b[1m990/990\u001b[0m \u001b[32m━━━━━━━━━━━━━━━━━━━━\u001b[0m\u001b[37m\u001b[0m \u001b[1m4s\u001b[0m 3ms/step - accuracy: 0.6622 - loss: 0.6943 - val_accuracy: 0.7622 - val_loss: 0.5775\n",
            "Epoch 2/10\n",
            "\u001b[1m990/990\u001b[0m \u001b[32m━━━━━━━━━━━━━━━━━━━━\u001b[0m\u001b[37m\u001b[0m \u001b[1m2s\u001b[0m 2ms/step - accuracy: 0.7673 - loss: 0.5277 - val_accuracy: 0.7712 - val_loss: 0.5653\n",
            "Epoch 3/10\n",
            "\u001b[1m990/990\u001b[0m \u001b[32m━━━━━━━━━━━━━━━━━━━━\u001b[0m\u001b[37m\u001b[0m \u001b[1m2s\u001b[0m 2ms/step - accuracy: 0.7705 - loss: 0.5116 - val_accuracy: 0.7718 - val_loss: 0.5661\n",
            "Epoch 4/10\n",
            "\u001b[1m990/990\u001b[0m \u001b[32m━━━━━━━━━━━━━━━━━━━━\u001b[0m\u001b[37m\u001b[0m \u001b[1m2s\u001b[0m 2ms/step - accuracy: 0.7714 - loss: 0.4938 - val_accuracy: 0.7728 - val_loss: 0.5667\n",
            "Epoch 5/10\n",
            "\u001b[1m990/990\u001b[0m \u001b[32m━━━━━━━━━━━━━━━━━━━━\u001b[0m\u001b[37m\u001b[0m \u001b[1m2s\u001b[0m 2ms/step - accuracy: 0.7731 - loss: 0.4944 - val_accuracy: 0.7731 - val_loss: 0.5665\n",
            "Epoch 6/10\n",
            "\u001b[1m990/990\u001b[0m \u001b[32m━━━━━━━━━━━━━━━━━━━━\u001b[0m\u001b[37m\u001b[0m \u001b[1m2s\u001b[0m 2ms/step - accuracy: 0.7726 - loss: 0.5042 - val_accuracy: 0.7715 - val_loss: 0.5654\n",
            "Epoch 7/10\n",
            "\u001b[1m990/990\u001b[0m \u001b[32m━━━━━━━━━━━━━━━━━━━━\u001b[0m\u001b[37m\u001b[0m \u001b[1m2s\u001b[0m 2ms/step - accuracy: 0.7723 - loss: 0.4913 - val_accuracy: 0.7718 - val_loss: 0.5645\n",
            "Epoch 8/10\n",
            "\u001b[1m990/990\u001b[0m \u001b[32m━━━━━━━━━━━━━━━━━━━━\u001b[0m\u001b[37m\u001b[0m \u001b[1m2s\u001b[0m 2ms/step - accuracy: 0.7719 - loss: 0.4974 - val_accuracy: 0.7735 - val_loss: 0.5645\n",
            "Epoch 9/10\n",
            "\u001b[1m990/990\u001b[0m \u001b[32m━━━━━━━━━━━━━━━━━━━━\u001b[0m\u001b[37m\u001b[0m \u001b[1m2s\u001b[0m 2ms/step - accuracy: 0.7742 - loss: 0.4870 - val_accuracy: 0.7737 - val_loss: 0.5636\n",
            "Epoch 10/10\n",
            "\u001b[1m990/990\u001b[0m \u001b[32m━━━━━━━━━━━━━━━━━━━━\u001b[0m\u001b[37m\u001b[0m \u001b[1m2s\u001b[0m 2ms/step - accuracy: 0.7716 - loss: 0.4902 - val_accuracy: 0.7725 - val_loss: 0.5644\n",
            "\u001b[1m1105/1105\u001b[0m \u001b[32m━━━━━━━━━━━━━━━━━━━━\u001b[0m\u001b[37m\u001b[0m \u001b[1m1s\u001b[0m 1ms/step\n",
            "Accuracy: 0.7612218922358931\n",
            "              precision    recall  f1-score   support\n",
            "\n",
            "           0       0.76      1.00      0.86     26517\n",
            "           1       0.81      0.06      0.11      8838\n",
            "\n",
            "    accuracy                           0.76     35355\n",
            "   macro avg       0.78      0.53      0.49     35355\n",
            "weighted avg       0.77      0.76      0.67     35355\n",
            "\n",
            "ROC AUC Score: 0.7427146758671161\n",
            "Precision-Recall AUC Score: 0.49733019723568805\n"
          ]
        },
        {
          "output_type": "display_data",
          "data": {
            "text/plain": [
              "<Figure size 640x480 with 1 Axes>"
            ],
            "image/png": "[encoded data removed]"
          },
          "metadata": {}
        },
        {
          "output_type": "display_data",
          "data": {
            "text/plain": [
              "<Figure size 640x480 with 1 Axes>"
            ],
            "image/png": "[encoded data removed]"
          },
          "metadata": {}
        }
      ]
    },
    {
      "cell_type": "markdown",
      "source": [
        "As can be observed, the model does a decent job at finding fraud transactions, but only finds about half the fraudulent transactions even after much tuning. There is clearly room to improve."
      ],
      "metadata": {
        "id": "doFpshFh2OO-"
      }
    },
    {
      "cell_type": "markdown",
      "source": [
        "#Random Forest and Evaluation"
      ],
      "metadata": {
        "id": "_EjT_ACs2hel"
      }
    },
    {
      "cell_type": "code",
      "source": [
        "from sklearn.ensemble import RandomForestClassifier\n",
        "\n",
        "# Assuming 'inter_df_resampled' is your preprocessed DataFrame\n",
        "X = inter_df_resampled.drop('isFraud', axis=1)\n",
        "y = inter_df_resampled['isFraud']\n",
        "\n",
        "# Split data into training and testing sets\n",
        "X_train, X_test, y_train, y_test = train_test_split(X, y, test_size=0.2, random_state=42)\n",
        "\n",
        "# Initialize and train the Random Forest Classifier\n",
        "rf_classifier = RandomForestClassifier(n_estimators=200, random_state=47) # You can tune hyperparameters\n",
        "rf_classifier.fit(X_train, y_train)\n",
        "\n",
        "# Make predictions on the test set\n",
        "y_pred_prob = rf_classifier.predict_proba(X_test)[:, 1] # Probability of class 1 (fraud)\n",
        "y_pred = rf_classifier.predict(X_test)\n",
        "\n",
        "# Evaluate the model\n",
        "accuracy = accuracy_score(y_test, y_pred)\n",
        "print(f\"Accuracy: {accuracy}\")\n",
        "print(classification_report(y_test, y_pred))\n",
        "\n",
        "# Compute ROC AUC score\n",
        "roc_auc = roc_auc_score(y_test, y_pred_prob)\n",
        "print(f\"ROC AUC Score: {roc_auc}\")\n",
        "\n",
        "# Calculate fpr and tpr using roc_curve before plotting\n",
        "fpr, tpr, _ = roc_curve(y_test, y_pred_prob)\n",
        "\n",
        "# Plot ROC Curve\n",
        "roc_display = RocCurveDisplay(fpr=fpr, tpr=tpr, roc_auc=roc_auc, estimator_name=\"Random Forest Model\").plot()\n",
        "plt.show()\n",
        "\n",
        "\n",
        "# Compute Precision-Recall AUC score\n",
        "precision, recall, _ = precision_recall_curve(y_test, y_pred_prob)\n",
        "pr_auc = auc(recall, precision)\n",
        "print(f\"Precision-Recall AUC Score: {pr_auc}\")\n",
        "\n",
        "# Plot Precision-Recall curve\n",
        "pr_display = PrecisionRecallDisplay(precision=precision, recall=recall, average_precision=pr_auc).plot()\n",
        "plt.show()"
      ],
      "metadata": {
        "colab": {
          "base_uri": "https://localhost:8080/",
          "height": 1000
        },
        "id": "QMMOsk9r2mOg",
        "outputId": "6f66e1f4-4ff3-4ac7-9a4d-ed2985ca0264"
      },
      "execution_count": null,
      "outputs": [
        {
          "output_type": "stream",
          "name": "stderr",
          "text": [
            "/usr/local/lib/python3.10/dist-packages/sklearn/utils/validation.py:877: UserWarning: pandas.DataFrame with sparse columns found.It will be converted to a dense numpy array.\n",
            "  warnings.warn(\n",
            "/usr/local/lib/python3.10/dist-packages/sklearn/utils/validation.py:877: UserWarning: pandas.DataFrame with sparse columns found.It will be converted to a dense numpy array.\n",
            "  warnings.warn(\n",
            "/usr/local/lib/python3.10/dist-packages/sklearn/utils/validation.py:877: UserWarning: pandas.DataFrame with sparse columns found.It will be converted to a dense numpy array.\n",
            "  warnings.warn(\n"
          ]
        },
        {
          "output_type": "stream",
          "name": "stdout",
          "text": [
            "Accuracy: 0.9289775137887145\n",
            "              precision    recall  f1-score   support\n",
            "\n",
            "           0       0.95      0.95      0.95     26517\n",
            "           1       0.85      0.86      0.86      8838\n",
            "\n",
            "    accuracy                           0.93     35355\n",
            "   macro avg       0.90      0.91      0.91     35355\n",
            "weighted avg       0.93      0.93      0.93     35355\n",
            "\n",
            "ROC AUC Score: 0.9707479302773508\n"
          ]
        },
        {
          "output_type": "display_data",
          "data": {
            "text/plain": [
              "<Figure size 640x480 with 1 Axes>"
            ],
            "image/png": "[encoded data removed]"
          },
          "metadata": {}
        },
        {
          "output_type": "stream",
          "name": "stdout",
          "text": [
            "Precision-Recall AUC Score: 0.9219915236431917\n"
          ]
        },
        {
          "output_type": "display_data",
          "data": {
            "text/plain": [
              "<Figure size 640x480 with 1 Axes>"
            ],
            "image/png": "[encoded data removed]"
          },
          "metadata": {}
        }
      ]
    },
    {
      "cell_type": "markdown",
      "source": [
        "As is clear, this model is ballin'"
      ],
      "metadata": {
        "id": "j_svVBvb5Uem"
      }
    },
    {
      "cell_type": "code",
      "source": [
        "import joblib\n",
        "\n",
        "# Save the model to a .joblib file\n",
        "joblib.dump(rf_classifier, 'rf_classifier.joblib')\n",
        "\n",
        "# Download the file\n",
        "files.download('rf_classifier.joblib')"
      ],
      "metadata": {
        "colab": {
          "base_uri": "https://localhost:8080/",
          "height": 34
        },
        "id": "V3ctokzpsbyP",
        "outputId": "f1bb5d17-a0cd-4fc4-bf85-a908adc2c472"
      },
      "execution_count": null,
      "outputs": [
        {
          "output_type": "display_data",
          "data": {
            "text/plain": [
              "<IPython.core.display.Javascript object>"
            ],
            "application/javascript": [
              "\n",
              "    async function download(id, filename, size) {\n",
              "      if (!google.colab.kernel.accessAllowed) {\n",
              "        return;\n",
              "      }\n",
              "      const div = document.createElement('div');\n",
              "      const label = document.createElement('label');\n",
              "      label.textContent = `Downloading \"${filename}\": `;\n",
              "      div.appendChild(label);\n",
              "      const progress = document.createElement('progress');\n",
              "      progress.max = size;\n",
              "      div.appendChild(progress);\n",
              "      document.body.appendChild(div);\n",
              "\n",
              "      const buffers = [];\n",
              "      let downloaded = 0;\n",
              "\n",
              "      const channel = await google.colab.kernel.comms.open(id);\n",
              "      // Send a message to notify the kernel that we're ready.\n",
              "      channel.send({})\n",
              "\n",
              "      for await (const message of channel.messages) {\n",
              "        // Send a message to notify the kernel that we're ready.\n",
              "        channel.send({})\n",
              "        if (message.buffers) {\n",
              "          for (const buffer of message.buffers) {\n",
              "            buffers.push(buffer);\n",
              "            downloaded += buffer.byteLength;\n",
              "            progress.value = downloaded;\n",
              "          }\n",
              "        }\n",
              "      }\n",
              "      const blob = new Blob(buffers, {type: 'application/binary'});\n",
              "      const a = document.createElement('a');\n",
              "      a.href = window.URL.createObjectURL(blob);\n",
              "      a.download = filename;\n",
              "      div.appendChild(a);\n",
              "      a.click();\n",
              "      div.remove();\n",
              "    }\n",
              "  "
            ]
          },
          "metadata": {}
        },
        {
          "output_type": "display_data",
          "data": {
            "text/plain": [
              "<IPython.core.display.Javascript object>"
            ],
            "application/javascript": [
              "download(\"download_76984ad2-3afe-426e-8268-cd3ecf996181\", \"rf_classifier.joblib\", 347785673)"
            ]
          },
          "metadata": {}
        }
      ]
    },
    {
      "cell_type": "markdown",
      "source": [
        "#XGBoost and Evaluation"
      ],
      "metadata": {
        "id": "HA7mG_pf5Y-d"
      }
    },
    {
      "cell_type": "code",
      "source": [
        "import xgboost as xgb\n",
        "from sklearn.metrics import roc_auc_score, precision_recall_curve, auc\n",
        "\n",
        "# Assuming 'inter_df_resampled' is your preprocessed DataFrame\n",
        "X = inter_df_resampled.drop('isFraud', axis=1)\n",
        "y = inter_df_resampled['isFraud']\n",
        "\n",
        "# Split data into training and testing sets\n",
        "X_train, X_test, y_train, y_test = train_test_split(X, y, test_size=0.2, random_state=42)\n",
        "\n",
        "# Initialize and train the XGBoost Classifier\n",
        "xgb_classifier = xgb.XGBClassifier(random_state=42, learning_rate = 0.08, n_estimators = 800, max_depth = 15, subsample = 0.7 )  # You can tune hyperparameters here\n",
        "xgb_classifier.fit(X_train, y_train)\n",
        "\n",
        "# Make predictions on the test set\n",
        "y_pred_prob = xgb_classifier.predict_proba(X_test)[:, 1]\n",
        "y_pred = xgb_classifier.predict(X_test)\n",
        "\n",
        "# Evaluate the model\n",
        "accuracy = accuracy_score(y_test, y_pred)\n",
        "print(f\"Accuracy: {accuracy}\")\n",
        "print(classification_report(y_test, y_pred))\n",
        "\n",
        "# Compute ROC AUC score\n",
        "roc_auc = roc_auc_score(y_test, y_pred_prob)\n",
        "print(f\"ROC AUC Score: {roc_auc}\")\n",
        "\n",
        "# Calculate fpr and tpr using roc_curve before plotting\n",
        "fpr, tpr, _ = roc_curve(y_test, y_pred_prob)\n",
        "\n",
        "# Plot ROC Curve\n",
        "roc_display = RocCurveDisplay(fpr=fpr, tpr=tpr, roc_auc=roc_auc, estimator_name=\"XGBoost Model\").plot()\n",
        "plt.show()\n",
        "\n",
        "# Compute Precision-Recall AUC score\n",
        "precision, recall, _ = precision_recall_curve(y_test, y_pred_prob)\n",
        "pr_auc = auc(recall, precision)\n",
        "print(f\"Precision-Recall AUC Score: {pr_auc}\")\n",
        "\n",
        "# Plot Precision-Recall curve\n",
        "pr_display = PrecisionRecallDisplay(precision=precision, recall=recall, average_precision=pr_auc).plot()\n",
        "plt.show()"
      ],
      "metadata": {
        "colab": {
          "base_uri": "https://localhost:8080/",
          "height": 1000
        },
        "id": "INxhrJ4a5w0Z",
        "outputId": "ef4b8a6e-a9ac-4cf8-a224-30c8688ae78a"
      },
      "execution_count": null,
      "outputs": [
        {
          "output_type": "stream",
          "name": "stderr",
          "text": [
            "/usr/local/lib/python3.10/dist-packages/xgboost/data.py:575: UserWarning: Sparse arrays from pandas are converted into dense.\n",
            "  warnings.warn(\"Sparse arrays from pandas are converted into dense.\")\n",
            "/usr/local/lib/python3.10/dist-packages/xgboost/data.py:575: UserWarning: Sparse arrays from pandas are converted into dense.\n",
            "  warnings.warn(\"Sparse arrays from pandas are converted into dense.\")\n",
            "/usr/local/lib/python3.10/dist-packages/xgboost/data.py:575: UserWarning: Sparse arrays from pandas are converted into dense.\n",
            "  warnings.warn(\"Sparse arrays from pandas are converted into dense.\")\n"
          ]
        },
        {
          "output_type": "stream",
          "name": "stdout",
          "text": [
            "Accuracy: 0.8994484514212983\n",
            "              precision    recall  f1-score   support\n",
            "\n",
            "           0       0.93      0.94      0.93     26517\n",
            "           1       0.82      0.77      0.79      8838\n",
            "\n",
            "    accuracy                           0.90     35355\n",
            "   macro avg       0.87      0.86      0.86     35355\n",
            "weighted avg       0.90      0.90      0.90     35355\n",
            "\n",
            "ROC AUC Score: 0.9560467931936698\n"
          ]
        },
        {
          "output_type": "display_data",
          "data": {
            "text/plain": [
              "<Figure size 640x480 with 1 Axes>"
            ],
            "image/png": "[encoded data removed]"
          },
          "metadata": {}
        },
        {
          "output_type": "stream",
          "name": "stdout",
          "text": [
            "Precision-Recall AUC Score: 0.8784116629604586\n"
          ]
        },
        {
          "output_type": "display_data",
          "data": {
            "text/plain": [
              "<Figure size 640x480 with 1 Axes>"
            ],
            "image/png": "[encoded data removed]"
          },
          "metadata": {}
        }
      ]
    },
    {
      "cell_type": "markdown",
      "source": [
        "Considering the evaluation metrics, the above XGBoost model is decent, and after much tuning, a decent middleground has been achieved."
      ],
      "metadata": {
        "id": "ADSLGEGiL-Wa"
      }
    },
    {
      "cell_type": "markdown",
      "source": [
        "#Neural Networks and Evaluation"
      ],
      "metadata": {
        "id": "rg6kuIvlMw2O"
      }
    },
    {
      "cell_type": "code",
      "source": [
        "X = inter_df_resampled.drop('isFraud', axis=1)\n",
        "y = inter_df_resampled['isFraud']\n",
        "\n",
        "# Split data into training, validation, and testing sets\n",
        "X_train, X_temp, y_train, y_temp = train_test_split(X, y, test_size=0.3, random_state=42)\n",
        "X_val, X_test, y_val, y_test = train_test_split(X_temp, y_temp, test_size=0.5, random_state=42)\n",
        "\n",
        "# Scale the features using StandardScaler\n",
        "scaler = StandardScaler()\n",
        "X_train = scaler.fit_transform(X_train)\n",
        "X_val = scaler.transform(X_val)\n",
        "X_test = scaler.transform(X_test)\n",
        "\n",
        "\n",
        "# Define the model\n",
        "model = keras.Sequential([\n",
        "    keras.layers.Dense(64, activation='relu', kernel_regularizer=keras.regularizers.l2(0.01), input_shape=(X_train.shape[1],)),\n",
        "    keras.layers.Dropout(0.3),  # Add dropout for regularization\n",
        "    keras.layers.Dense(32, activation='relu', kernel_regularizer=keras.regularizers.l2(0.01)),\n",
        "    keras.layers.Dropout(0.3),\n",
        "    keras.layers.Dense(16, activation='relu', kernel_regularizer=keras.regularizers.l2(0.01)),\n",
        "    keras.layers.Dropout(0.3),\n",
        "    keras.layers.Dense(1, activation='sigmoid')\n",
        "])\n",
        "\n",
        "# Compile the model\n",
        "model.compile(optimizer='adam', loss='binary_crossentropy', metrics=['accuracy'])\n",
        "\n",
        "# Define early stopping\n",
        "early_stopping = keras.callbacks.EarlyStopping(monitor='val_loss', patience=5, restore_best_weights=True)\n",
        "\n",
        "# Train the model with class weights, validation split, and early stopping\n",
        "history = model.fit(X_train, y_train, epochs=50, batch_size=16,\n",
        "                    validation_data=(X_val, y_val),\n",
        "                    callbacks=[early_stopping])\n",
        "\n",
        "# Evaluate the model\n",
        "y_pred_prob = model.predict(X_test)\n",
        "y_pred = (y_pred_prob > 0.5).astype(int)\n",
        "\n",
        "# Evaluate the model on the test set\n",
        "loss, accuracy = model.evaluate(X_test, y_test, verbose=0)\n",
        "print(f\"Test Loss: {loss:.4f}\")\n",
        "print(f\"Test Accuracy: {accuracy:.4f}\")\n",
        "\n",
        "\n",
        "# Calculate precision-recall curve\n",
        "precision, recall, thresholds = precision_recall_curve(y_test, y_pred_prob)\n",
        "\n",
        "# Calculate PR AUC score\n",
        "pr_auc = auc(recall, precision)\n",
        "print(f\"Precision-Recall AUC Score: {pr_auc}\")\n",
        "\n",
        "# Calculate ROC AUC score\n",
        "roc_auc = roc_auc_score(y_test, y_pred_prob)\n",
        "print(f\"ROC AUC Score: {roc_auc}\")\n",
        "\n",
        "# Plot Precision-Recall curve\n",
        "pr_display = PrecisionRecallDisplay(precision=precision, recall=recall, average_precision=pr_auc).plot()\n",
        "plt.show()\n",
        "\n",
        "\n",
        "# Plot ROC curve\n",
        "fpr, tpr, _ = roc_curve(y_test, y_pred_prob)\n",
        "roc_display = RocCurveDisplay(fpr=fpr, tpr=tpr, roc_auc=roc_auc).plot()\n",
        "plt.show()"
      ],
      "metadata": {
        "colab": {
          "base_uri": "https://localhost:8080/",
          "height": 1000
        },
        "id": "vgWeS0IFtLHW",
        "outputId": "7c8a0062-df83-45b3-9f8f-1c8f77f5c556"
      },
      "execution_count": null,
      "outputs": [
        {
          "output_type": "stream",
          "name": "stderr",
          "text": [
            "/usr/local/lib/python3.10/dist-packages/sklearn/utils/validation.py:877: UserWarning: pandas.DataFrame with sparse columns found.It will be converted to a dense numpy array.\n",
            "  warnings.warn(\n",
            "/usr/local/lib/python3.10/dist-packages/sklearn/utils/validation.py:877: UserWarning: pandas.DataFrame with sparse columns found.It will be converted to a dense numpy array.\n",
            "  warnings.warn(\n",
            "/usr/local/lib/python3.10/dist-packages/sklearn/utils/validation.py:877: UserWarning: pandas.DataFrame with sparse columns found.It will be converted to a dense numpy array.\n",
            "  warnings.warn(\n",
            "/usr/local/lib/python3.10/dist-packages/sklearn/utils/validation.py:877: UserWarning: pandas.DataFrame with sparse columns found.It will be converted to a dense numpy array.\n",
            "  warnings.warn(\n",
            "/usr/local/lib/python3.10/dist-packages/keras/src/layers/core/dense.py:87: UserWarning: Do not pass an `input_shape`/`input_dim` argument to a layer. When using Sequential models, prefer using an `Input(shape)` object as the first layer in the model instead.\n",
            "  super().__init__(activity_regularizer=activity_regularizer, **kwargs)\n"
          ]
        },
        {
          "output_type": "stream",
          "name": "stdout",
          "text": [
            "Epoch 1/50\n",
            "\u001b[1m7734/7734\u001b[0m \u001b[32m━━━━━━━━━━━━━━━━━━━━\u001b[0m\u001b[37m\u001b[0m \u001b[1m21s\u001b[0m 2ms/step - accuracy: 0.7445 - loss: 0.7055 - val_accuracy: 0.7483 - val_loss: 0.5250\n",
            "Epoch 2/50\n",
            "\u001b[1m7734/7734\u001b[0m \u001b[32m━━━━━━━━━━━━━━━━━━━━\u001b[0m\u001b[37m\u001b[0m \u001b[1m14s\u001b[0m 2ms/step - accuracy: 0.7520 - loss: 0.5324 - val_accuracy: 0.7483 - val_loss: 0.5202\n",
            "Epoch 3/50\n",
            "\u001b[1m7734/7734\u001b[0m \u001b[32m━━━━━━━━━━━━━━━━━━━━\u001b[0m\u001b[37m\u001b[0m \u001b[1m14s\u001b[0m 2ms/step - accuracy: 0.7529 - loss: 0.5262 - val_accuracy: 0.7483 - val_loss: 0.5218\n",
            "Epoch 4/50\n",
            "\u001b[1m7734/7734\u001b[0m \u001b[32m━━━━━━━━━━━━━━━━━━━━\u001b[0m\u001b[37m\u001b[0m \u001b[1m14s\u001b[0m 2ms/step - accuracy: 0.7500 - loss: 0.5294 - val_accuracy: 0.7483 - val_loss: 0.5177\n",
            "Epoch 5/50\n",
            "\u001b[1m7734/7734\u001b[0m \u001b[32m━━━━━━━━━━━━━━━━━━━━\u001b[0m\u001b[37m\u001b[0m \u001b[1m14s\u001b[0m 2ms/step - accuracy: 0.7515 - loss: 0.5266 - val_accuracy: 0.7483 - val_loss: 0.5138\n",
            "Epoch 6/50\n",
            "\u001b[1m7734/7734\u001b[0m \u001b[32m━━━━━━━━━━━━━━━━━━━━\u001b[0m\u001b[37m\u001b[0m \u001b[1m14s\u001b[0m 2ms/step - accuracy: 0.7528 - loss: 0.5250 - val_accuracy: 0.7483 - val_loss: 0.5181\n",
            "Epoch 7/50\n",
            "\u001b[1m7734/7734\u001b[0m \u001b[32m━━━━━━━━━━━━━━━━━━━━\u001b[0m\u001b[37m\u001b[0m \u001b[1m14s\u001b[0m 2ms/step - accuracy: 0.7518 - loss: 0.5239 - val_accuracy: 0.7483 - val_loss: 0.5120\n",
            "Epoch 8/50\n",
            "\u001b[1m7734/7734\u001b[0m \u001b[32m━━━━━━━━━━━━━━━━━━━━\u001b[0m\u001b[37m\u001b[0m \u001b[1m14s\u001b[0m 2ms/step - accuracy: 0.7541 - loss: 0.5239 - val_accuracy: 0.7483 - val_loss: 0.5117\n",
            "Epoch 9/50\n",
            "\u001b[1m7734/7734\u001b[0m \u001b[32m━━━━━━━━━━━━━━━━━━━━\u001b[0m\u001b[37m\u001b[0m \u001b[1m13s\u001b[0m 2ms/step - accuracy: 0.7516 - loss: 0.5249 - val_accuracy: 0.7483 - val_loss: 0.5123\n",
            "Epoch 10/50\n",
            "\u001b[1m7734/7734\u001b[0m \u001b[32m━━━━━━━━━━━━━━━━━━━━\u001b[0m\u001b[37m\u001b[0m \u001b[1m14s\u001b[0m 2ms/step - accuracy: 0.7521 - loss: 0.5227 - val_accuracy: 0.7483 - val_loss: 0.5155\n",
            "Epoch 11/50\n",
            "\u001b[1m7734/7734\u001b[0m \u001b[32m━━━━━━━━━━━━━━━━━━━━\u001b[0m\u001b[37m\u001b[0m \u001b[1m13s\u001b[0m 2ms/step - accuracy: 0.7530 - loss: 0.5240 - val_accuracy: 0.7483 - val_loss: 0.5090\n",
            "Epoch 12/50\n",
            "\u001b[1m7734/7734\u001b[0m \u001b[32m━━━━━━━━━━━━━━━━━━━━\u001b[0m\u001b[37m\u001b[0m \u001b[1m14s\u001b[0m 2ms/step - accuracy: 0.7525 - loss: 0.5193 - val_accuracy: 0.7483 - val_loss: 0.5121\n",
            "Epoch 13/50\n",
            "\u001b[1m7734/7734\u001b[0m \u001b[32m━━━━━━━━━━━━━━━━━━━━\u001b[0m\u001b[37m\u001b[0m \u001b[1m14s\u001b[0m 2ms/step - accuracy: 0.7521 - loss: 0.5226 - val_accuracy: 0.7483 - val_loss: 0.5120\n",
            "Epoch 14/50\n",
            "\u001b[1m7734/7734\u001b[0m \u001b[32m━━━━━━━━━━━━━━━━━━━━\u001b[0m\u001b[37m\u001b[0m \u001b[1m14s\u001b[0m 2ms/step - accuracy: 0.7519 - loss: 0.5230 - val_accuracy: 0.7483 - val_loss: 0.5102\n",
            "Epoch 15/50\n",
            "\u001b[1m7734/7734\u001b[0m \u001b[32m━━━━━━━━━━━━━━━━━━━━\u001b[0m\u001b[37m\u001b[0m \u001b[1m14s\u001b[0m 2ms/step - accuracy: 0.7544 - loss: 0.5213 - val_accuracy: 0.7483 - val_loss: 0.5119\n",
            "Epoch 16/50\n",
            "\u001b[1m7734/7734\u001b[0m \u001b[32m━━━━━━━━━━━━━━━━━━━━\u001b[0m\u001b[37m\u001b[0m \u001b[1m14s\u001b[0m 2ms/step - accuracy: 0.7529 - loss: 0.5220 - val_accuracy: 0.7483 - val_loss: 0.5098\n",
            "\u001b[1m829/829\u001b[0m \u001b[32m━━━━━━━━━━━━━━━━━━━━\u001b[0m\u001b[37m\u001b[0m \u001b[1m2s\u001b[0m 2ms/step\n",
            "Test Loss: 0.5066\n",
            "Test Accuracy: 0.7520\n",
            "Precision-Recall AUC Score: 0.49861668261317227\n",
            "ROC AUC Score: 0.7548376432870141\n"
          ]
        },
        {
          "output_type": "display_data",
          "data": {
            "text/plain": [
              "<Figure size 640x480 with 1 Axes>"
            ],
            "image/png": "[encoded data removed]"
          },
          "metadata": {}
        },
        {
          "output_type": "display_data",
          "data": {
            "text/plain": [
              "<Figure size 640x480 with 1 Axes>"
            ],
            "image/png": "[encoded data removed]"
          },
          "metadata": {}
        }
      ]
    },
    {
      "cell_type": "markdown",
      "source": [
        "After much tweaking, the model doesn't ever get an accuracy of more than ~80%, except that it was 96% once when the validation accuracy is like 4-5% clearly indicating overfitting. The neural network is not even better than the logistic regression model."
      ],
      "metadata": {
        "id": "8o0e2B4Gsi96"
      }
    },
    {
      "cell_type": "markdown",
      "source": [
        "#Interpretability"
      ],
      "metadata": {
        "id": "4TTlcX9Ru0_k"
      }
    },
    {
      "cell_type": "markdown",
      "source": [
        "Tried to implement SHAP analysis, but it was just taking way too much time."
      ],
      "metadata": {
        "id": "Ju8P5yBFt-Tx"
      }
    },
    {
      "cell_type": "code",
      "source": [
        "import shap\n",
        "\n",
        "# Sampling 40 instances from X_test for faster SHAP analysis\n",
        "X_test_sampled = X_test.sample(n=40, random_state=42)\n",
        "\n",
        "explainer = shap.TreeExplainer(rf_classifier)\n",
        "shap_values = explainer.shap_values(X_test_sampled)\n",
        "\n",
        "# Summary plot\n",
        "shap.summary_plot(shap_values, X_test_sampled, plot_type=\"bar\")\n",
        "\n",
        "# Force plot for individual predictions\n",
        "shap.force_plot(explainer.expected_value[1], shap_values[1][0,:], X_test_sampled.iloc[0,:])"
      ],
      "metadata": {
        "id": "0bEPeJTomT45"
      },
      "execution_count": null,
      "outputs": []
    }
  ]
}